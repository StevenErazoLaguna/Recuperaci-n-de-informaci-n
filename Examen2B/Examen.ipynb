{
 "cells": [
  {
   "cell_type": "markdown",
   "id": "87c89fab",
   "metadata": {},
   "source": [
    "## Examen Segundo Bimestre"
   ]
  },
  {
   "cell_type": "markdown",
   "id": "6e14718e",
   "metadata": {},
   "source": [
    "### CARGA Y PREPROCESAMIENTO"
   ]
  },
  {
   "cell_type": "code",
   "execution_count": null,
   "id": "a8528fcf",
   "metadata": {},
   "outputs": [
    {
     "name": "stderr",
     "output_type": "stream",
     "text": [
      "C:\\Users\\steve\\AppData\\Local\\Packages\\PythonSoftwareFoundation.Python.3.11_qbz5n2kfra8p0\\LocalCache\\local-packages\\Python311\\site-packages\\tqdm\\auto.py:21: TqdmWarning: IProgress not found. Please update jupyter and ipywidgets. See https://ipywidgets.readthedocs.io/en/stable/user_install.html\n",
      "  from .autonotebook import tqdm as notebook_tqdm\n"
     ]
    }
   ],
   "source": [
    "#Importar librerias\n",
    "import json\n",
    "import pandas as pd\n",
    "import re\n",
    "import nltk\n",
    "import string\n",
    "from nltk.corpus import stopwords\n",
    "from sklearn.feature_extraction.text import TfidfVectorizer\n",
    "from rank_bm25 import BM25Okapi\n",
    "from sentence_transformers import SentenceTransformer\n",
    "import faiss\n",
    "import numpy as np"
   ]
  },
  {
   "cell_type": "code",
   "execution_count": 4,
   "id": "990319c5",
   "metadata": {},
   "outputs": [
    {
     "name": "stderr",
     "output_type": "stream",
     "text": [
      "[nltk_data] Downloading package stopwords to\n",
      "[nltk_data]     C:\\Users\\steve\\AppData\\Roaming\\nltk_data...\n",
      "[nltk_data]   Unzipping corpora\\stopwords.zip.\n"
     ]
    }
   ],
   "source": [
    "#Descarga de stopwords\n",
    "nltk.download('stopwords')\n",
    "stop_words = set(stopwords.words('english'))"
   ]
  },
  {
   "cell_type": "code",
   "execution_count": null,
   "id": "1f1bf328",
   "metadata": {},
   "outputs": [],
   "source": [
    "# --- Cargar y preprocesar el corpus --- el archivo preprocesado ya es del 1%\n",
    "with open('arxiv_sample.json') as f:\n",
    "    data = [json.loads(line) for line in f]"
   ]
  },
  {
   "cell_type": "code",
   "execution_count": 15,
   "id": "4520786d",
   "metadata": {},
   "outputs": [],
   "source": [
    "#Extraer title y abstract\n",
    "subset_cleaned = [{\"title\": d[\"title\"], \"abstract\": d[\"abstract\"]} for d in data if \"title\" in d and \"abstract\" in d]"
   ]
  },
  {
   "cell_type": "code",
   "execution_count": 97,
   "id": "c50b21f3",
   "metadata": {},
   "outputs": [
    {
     "data": {
      "text/plain": [
       "[{'title': 'Role of electron correlations in transport through domain walls in\\n  magnetic nanowires',\n",
       "  'abstract': \"  The transmission of correlated electrons through a domain wall in\\nferromagnetic quasi-one-dimensional systems is studied theoretically in the\\ncase when the domain wall width is comparable with the Fermi wavelength of the\\ncharge carriers. The wall gives rise to both potential and spin dependent\\nscattering. Using a poor man's renormalization group approach, we obtain\\nscaling equations for the scattering amplitudes. For repulsive interactions,\\nthe wall is shown to reflect all incident electrons at the zero temperature\\nfixed points. In one of the fixed points the wall additionally flips the spin\\nof all incident electrons, generating a finite spin current without associated\\ncharge current.\\n\"},\n",
       " {'title': 'SU(3) Polyakov linear-sigma model: bulk and shear viscosity of QCD\\n  matter in finite magnetic field',\n",
       "  'abstract': '  Due to off-center relativistic motion of the charged spectators and the local\\nmomentum-imbalance of the participants, a short-lived huge magnetic field is\\nlikely generated, especially in relativistic heavy-ion collisions. In\\ndetermining the temperature dependence of bulk and shear viscosities of the QCD\\nmatter in vanishing and finite magnetic field, we utilize mean field\\napproximation to the SU($3$) Polyakov linear-sigma model (PLSM). We compare\\nbetween the results from two different approaches; Green-Kubo correlation and\\nBoltzmann master equation with Chapman-Enskog expansion. We find that both\\napproaches have almost identical results, especially in the hadron phase. In\\nthe temperature dependence of bulk and shear viscosities relative to thermal\\nentropy at the critical temperature, there is a rapid decrease in the chiral\\nphase-transition and in the critical temperature with increasing magnetic\\nfield. As the magnetic field strength increases, a peak appears at the critical\\ntemperature ($T_c$). This can be understood from the small drop on the thermal\\nentropy at $T_c$, which can be interpreted due to instability in the\\nhydrodynamic flow of the quark-gluon plasma and soft statistical hadronization.\\nIt is obvious that, increasing magnetic field accelerates the transition from\\nhadron to QGP phases (inverse catalysis), i.e., taking place at lower\\ntemperatures.\\n'},\n",
       " {'title': 'Maximal Abelian gauge and a generalized BRST transformation',\n",
       "  'abstract': '  We apply a generalized Becchi-Rouet-Stora-Tyutin (BRST) formulation to\\nestablish a connection between the gauge-fixed $SU(2)$ Yang-Mills (YM) theories\\nformulated in the Lorenz gauge and in the Maximal Abelian (MA) gauge. It is\\nshown that the generating functional corresponding to the Faddeev-Popov (FP)\\neffective action in the MA gauge can be obtained from that in the Lorenz gauge\\nby carrying out an appropriate finite and field-dependent BRST (FFBRST)\\ntransformation. In this procedure, the FP effective action in the MA gauge is\\nfound from that in the Lorenz gauge by incorporating the contribution of\\nnon-trivial Jacobian due to the FFBRST transformation of the path integral\\nmeasure. The present FFBRST formulation might be useful to see how Abelian\\ndominance in the MA gauge is realized in the Lorenz gauge.\\n'}]"
      ]
     },
     "execution_count": 97,
     "metadata": {},
     "output_type": "execute_result"
    }
   ],
   "source": [
    "subset_cleaned[:3]"
   ]
  },
  {
   "cell_type": "code",
   "execution_count": null,
   "id": "a22f1848",
   "metadata": {},
   "outputs": [],
   "source": [
    "# Normalizar y limpiar texto\n",
    "def preprocess(text):\n",
    "    text = text.lower()\n",
    "    text = re.sub(f\"[{string.punctuation}]\", \"\", text)\n",
    "    tokens = text.split()\n",
    "    tokens = [word for word in tokens if word not in stop_words]\n",
    "    return \" \".join(tokens)"
   ]
  },
  {
   "cell_type": "code",
   "execution_count": null,
   "id": "34b626b4",
   "metadata": {},
   "outputs": [],
   "source": [
    "#Guardar\n",
    "with open(\"arxiv_subset_1pct.json\", \"w\") as out_f:\n",
    "    json.dump(subset_cleaned, out_f, indent=2)"
   ]
  },
  {
   "cell_type": "code",
   "execution_count": 43,
   "id": "a1d48efb",
   "metadata": {},
   "outputs": [],
   "source": [
    "# Crear DataFrame\n",
    "corpus_df = pd.DataFrame(subset_cleaned )\n",
    "corpus_df['text'] = corpus_df['title'] + \". \" + corpus_df['abstract']\n",
    "corpus_df['text_clean'] = corpus_df['text'].apply(preprocess)\n",
    "corpus_df['id'] = corpus_df.index"
   ]
  },
  {
   "cell_type": "code",
   "execution_count": 26,
   "id": "98bd82f7",
   "metadata": {},
   "outputs": [],
   "source": [
    "# Normalizar y limpiar texto\n",
    "def preprocess(text):\n",
    "    text = text.lower()\n",
    "    text = re.sub(f\"[{string.punctuation}]\", \"\", text)\n",
    "    tokens = text.split()\n",
    "    tokens = [word for word in tokens if word not in stop_words]\n",
    "    return \" \".join(tokens)\n",
    "\n",
    "corpus_df['text_clean'] = corpus_df['text'].apply(preprocess)"
   ]
  },
  {
   "cell_type": "code",
   "execution_count": 98,
   "id": "d670404a",
   "metadata": {},
   "outputs": [
    {
     "data": {
      "text/html": [
       "<div>\n",
       "<style scoped>\n",
       "    .dataframe tbody tr th:only-of-type {\n",
       "        vertical-align: middle;\n",
       "    }\n",
       "\n",
       "    .dataframe tbody tr th {\n",
       "        vertical-align: top;\n",
       "    }\n",
       "\n",
       "    .dataframe thead th {\n",
       "        text-align: right;\n",
       "    }\n",
       "</style>\n",
       "<table border=\"1\" class=\"dataframe\">\n",
       "  <thead>\n",
       "    <tr style=\"text-align: right;\">\n",
       "      <th></th>\n",
       "      <th>title</th>\n",
       "      <th>abstract</th>\n",
       "      <th>text</th>\n",
       "      <th>text_clean</th>\n",
       "      <th>id</th>\n",
       "    </tr>\n",
       "  </thead>\n",
       "  <tbody>\n",
       "    <tr>\n",
       "      <th>0</th>\n",
       "      <td>Role of electron correlations in transport thr...</td>\n",
       "      <td>The transmission of correlated electrons thr...</td>\n",
       "      <td>Role of electron correlations in transport thr...</td>\n",
       "      <td>role electron correlations transport domain wa...</td>\n",
       "      <td>0</td>\n",
       "    </tr>\n",
       "    <tr>\n",
       "      <th>1</th>\n",
       "      <td>SU(3) Polyakov linear-sigma model: bulk and sh...</td>\n",
       "      <td>Due to off-center relativistic motion of the...</td>\n",
       "      <td>SU(3) Polyakov linear-sigma model: bulk and sh...</td>\n",
       "      <td>su3 polyakov linearsigma model bulk shear visc...</td>\n",
       "      <td>1</td>\n",
       "    </tr>\n",
       "    <tr>\n",
       "      <th>2</th>\n",
       "      <td>Maximal Abelian gauge and a generalized BRST t...</td>\n",
       "      <td>We apply a generalized Becchi-Rouet-Stora-Ty...</td>\n",
       "      <td>Maximal Abelian gauge and a generalized BRST t...</td>\n",
       "      <td>maximal abelian gauge generalized brst transfo...</td>\n",
       "      <td>2</td>\n",
       "    </tr>\n",
       "    <tr>\n",
       "      <th>3</th>\n",
       "      <td>Stable Diffusion is Unstable</td>\n",
       "      <td>Recently, text-to-image models have been thr...</td>\n",
       "      <td>Stable Diffusion is Unstable.   Recently, text...</td>\n",
       "      <td>stable diffusion unstable recently texttoimage...</td>\n",
       "      <td>3</td>\n",
       "    </tr>\n",
       "    <tr>\n",
       "      <th>4</th>\n",
       "      <td>A New Proof of the New Intersection Theorem</td>\n",
       "      <td>In 1987 Roberts completed the proof of the N...</td>\n",
       "      <td>A New Proof of the New Intersection Theorem.  ...</td>\n",
       "      <td>new proof new intersection theorem 1987 robert...</td>\n",
       "      <td>4</td>\n",
       "    </tr>\n",
       "  </tbody>\n",
       "</table>\n",
       "</div>"
      ],
      "text/plain": [
       "                                               title  \\\n",
       "0  Role of electron correlations in transport thr...   \n",
       "1  SU(3) Polyakov linear-sigma model: bulk and sh...   \n",
       "2  Maximal Abelian gauge and a generalized BRST t...   \n",
       "3                       Stable Diffusion is Unstable   \n",
       "4        A New Proof of the New Intersection Theorem   \n",
       "\n",
       "                                            abstract  \\\n",
       "0    The transmission of correlated electrons thr...   \n",
       "1    Due to off-center relativistic motion of the...   \n",
       "2    We apply a generalized Becchi-Rouet-Stora-Ty...   \n",
       "3    Recently, text-to-image models have been thr...   \n",
       "4    In 1987 Roberts completed the proof of the N...   \n",
       "\n",
       "                                                text  \\\n",
       "0  Role of electron correlations in transport thr...   \n",
       "1  SU(3) Polyakov linear-sigma model: bulk and sh...   \n",
       "2  Maximal Abelian gauge and a generalized BRST t...   \n",
       "3  Stable Diffusion is Unstable.   Recently, text...   \n",
       "4  A New Proof of the New Intersection Theorem.  ...   \n",
       "\n",
       "                                          text_clean  id  \n",
       "0  role electron correlations transport domain wa...   0  \n",
       "1  su3 polyakov linearsigma model bulk shear visc...   1  \n",
       "2  maximal abelian gauge generalized brst transfo...   2  \n",
       "3  stable diffusion unstable recently texttoimage...   3  \n",
       "4  new proof new intersection theorem 1987 robert...   4  "
      ]
     },
     "execution_count": 98,
     "metadata": {},
     "output_type": "execute_result"
    }
   ],
   "source": [
    "corpus_df[:5]"
   ]
  },
  {
   "cell_type": "markdown",
   "id": "fdf9b2e4",
   "metadata": {},
   "source": [
    "### Indexación TF-IDF"
   ]
  },
  {
   "cell_type": "code",
   "execution_count": 28,
   "id": "30606dd1",
   "metadata": {},
   "outputs": [],
   "source": [
    "tfidf_vectorizer = TfidfVectorizer()\n",
    "tfidf_matrix = tfidf_vectorizer.fit_transform(corpus_df['text_clean'])"
   ]
  },
  {
   "cell_type": "markdown",
   "id": "db4654d5",
   "metadata": {},
   "source": [
    "### Indexación BM25"
   ]
  },
  {
   "cell_type": "code",
   "execution_count": 29,
   "id": "3dd18f45",
   "metadata": {},
   "outputs": [],
   "source": [
    "bm25_corpus = [doc.split() for doc in corpus_df['text_clean']]\n",
    "bm25 = BM25Okapi(bm25_corpus)"
   ]
  },
  {
   "cell_type": "markdown",
   "id": "c01163a3",
   "metadata": {},
   "source": [
    "### Indexación Vectorial con FAISS"
   ]
  },
  {
   "cell_type": "code",
   "execution_count": 30,
   "id": "d0fee6b5",
   "metadata": {},
   "outputs": [
    {
     "name": "stderr",
     "output_type": "stream",
     "text": [
      "Batches:   0%|          | 0/873 [00:00<?, ?it/s]C:\\Users\\steve\\AppData\\Local\\Packages\\PythonSoftwareFoundation.Python.3.11_qbz5n2kfra8p0\\LocalCache\\local-packages\\Python311\\site-packages\\torch\\nn\\modules\\module.py:1762: FutureWarning: `encoder_attention_mask` is deprecated and will be removed in version 4.55.0 for `BertSdpaSelfAttention.forward`.\n",
      "  return forward_call(*args, **kwargs)\n",
      "Batches: 100%|██████████| 873/873 [14:39<00:00,  1.01s/it]\n"
     ]
    }
   ],
   "source": [
    "model = SentenceTransformer('all-MiniLM-L6-v2')\n",
    "embeddings = model.encode(corpus_df['text_clean'].tolist(), show_progress_bar=True)\n",
    "\n",
    "dimension = embeddings.shape[1]\n",
    "index_faiss = faiss.IndexFlatL2(dimension)\n",
    "index_faiss.add(np.array(embeddings))"
   ]
  },
  {
   "cell_type": "markdown",
   "id": "202dc25a",
   "metadata": {},
   "source": [
    "## FUNCIONES DE BUSQUEDA"
   ]
  },
  {
   "cell_type": "code",
   "execution_count": 89,
   "id": "4f0fca70",
   "metadata": {},
   "outputs": [],
   "source": [
    "# TF-IDF Search Function\n",
    "def search_tfidf(query, top_k=11):\n",
    "    query_vec = tfidf_vectorizer.transform([preprocess(query)])\n",
    "    scores = (tfidf_matrix @ query_vec.T).toarray().ravel()\n",
    "    top_ids = scores.argsort()[::-1][:top_k]\n",
    "    return corpus_df.iloc[top_ids][['id', 'title', 'abstract']]\n"
   ]
  },
  {
   "cell_type": "code",
   "execution_count": 88,
   "id": "249b3227",
   "metadata": {},
   "outputs": [],
   "source": [
    "# BM25 Search Function\n",
    "def search_bm25(query, top_k=11):\n",
    "    query_tokens = preprocess(query).split()\n",
    "    scores = bm25.get_scores(query_tokens)\n",
    "    top_ids = np.argsort(scores)[::-1][:top_k]\n",
    "    return corpus_df.iloc[top_ids][['id', 'title', 'abstract']]"
   ]
  },
  {
   "cell_type": "code",
   "execution_count": 87,
   "id": "cee0517f",
   "metadata": {},
   "outputs": [],
   "source": [
    "# Vectorial Search Function\n",
    "def search_faiss(query, top_k=11):\n",
    "    query_embedding = model.encode([preprocess(query)])\n",
    "    distances, indices = index_faiss.search(query_embedding, top_k)\n",
    "    return corpus_df.iloc[indices[0]][['id', 'title', 'abstract']]"
   ]
  },
  {
   "cell_type": "markdown",
   "id": "b3851bc6",
   "metadata": {},
   "source": [
    "### Comparacion de Rankings"
   ]
  },
  {
   "cell_type": "code",
   "execution_count": 106,
   "id": "d4f22741",
   "metadata": {},
   "outputs": [],
   "source": [
    "import pandas as pd\n",
    "\n",
    "def comparar_rankings(query):\n",
    "    print(f\"\\n Evaluación para la consulta: \\\"{query}\\\"\\n\")\n",
    "\n",
    "    r1_df = search_tfidf(query)\n",
    "    r2_df = search_bm25(query)\n",
    "    r3_df = search_faiss(query)\n",
    "\n",
    "    # Extraer solo los títulos\n",
    "    tfidf_titles = r1_df['title'].tolist()\n",
    "    bm25_titles = r2_df['title'].tolist()\n",
    "    faiss_titles = r3_df['title'].tolist()\n",
    "\n",
    "    # Crear dataframe de comparación\n",
    "    df_comparacion = pd.DataFrame({\n",
    "        'TF-IDF': tfidf_titles,\n",
    "        'BM25': bm25_titles,\n",
    "        'FAISS': faiss_titles\n",
    "    })\n",
    "    print(df_comparacion)\n",
    "\n",
    "    # Análisis de coincidencias\n",
    "    comunes = set(tfidf_titles) & set(bm25_titles) & set(faiss_titles)\n",
    "    print(f\"\\n Documentos comunes en los 3 modelos: {len(comunes)}\")\n",
    "    for doc in comunes:\n",
    "        print(f\"• {doc}\")\n",
    "\n",
    "    print(\"\\n Coincidencias entre pares:\")\n",
    "    print(\" - TF-IDF ∩ BM25:\", len(set(tfidf_titles) & set(bm25_titles)))\n",
    "    print(\" - TF-IDF ∩ FAISS:\", len(set(tfidf_titles) & set(faiss_titles)))\n",
    "    print(\" - BM25 ∩ FAISS:\", len(set(bm25_titles) & set(faiss_titles)))"
   ]
  },
  {
   "cell_type": "code",
   "execution_count": 107,
   "id": "bd64ac34",
   "metadata": {},
   "outputs": [
    {
     "name": "stdout",
     "output_type": "stream",
     "text": [
      "\n",
      " Evaluación para la consulta: \"¿Qué describe la ecuación de Swift-Hohenberg cerca de una inestabilidad?\"\n",
      "\n",
      "                                               TF-IDF  \\\n",
      "0                                               Selex   \n",
      "1   Sur les automorphismes et la rigidite des grou...   \n",
      "2     De Rham prismatic crystals over $\\mathcal{O}_K$   \n",
      "3         Quantum Global Structure of de Sitter Space   \n",
      "4             Blood Pulsation Intensity Video Mapping   \n",
      "5   De Sitter Holography with a Finite Number of S...   \n",
      "6   Real or Imaginary? (On pair creation in de Sit...   \n",
      "7                       The Fall of Stringy de Sitter   \n",
      "8   Compact spacelike surfaces in the 3-dimensiona...   \n",
      "9     The Swift-Hohenberg equation on conic manifolds   \n",
      "10  Anisotropic generalizations of de Sitter space...   \n",
      "\n",
      "                                                 BM25  \\\n",
      "0   Sur les automorphismes et la rigidite des grou...   \n",
      "1                                               Selex   \n",
      "2   An infinitely differentiable function with com...   \n",
      "3   Fractional differential operators and Toeplitz...   \n",
      "4   De la recherche sociale d'information \\`a la r...   \n",
      "5                       The Fall of Stringy de Sitter   \n",
      "6   Sur les paquets d'Arthur des groupes classique...   \n",
      "7   Estimaci\\'on de la trayectoria de coronavirus ...   \n",
      "8   El tequila para consumo nacional como una vent...   \n",
      "9     De Rham prismatic crystals over $\\mathcal{O}_K$   \n",
      "10  Higher displays arising from filtered de Rham-...   \n",
      "\n",
      "                                                FAISS  \n",
      "0     The Swift-Hohenberg equation on conic manifolds  \n",
      "1   Nonlinear states of the conservative complex S...  \n",
      "2                   Swift J1644+57 as an off-axis Jet  \n",
      "3   Numerical validation of the Complex Swift-Hohe...  \n",
      "4   Gamma Ray Bursts Flares detected and observed ...  \n",
      "5   SWIFT: Expedited Failure Recovery for Large-sc...  \n",
      "6   Are there really `black holes' in the Atlantic...  \n",
      "7   Eshelby description of highly viscous flow -- ...  \n",
      "8                   Gravitational Model of the String  \n",
      "9             General relativity and OPERA Experiment  \n",
      "10                On Cauchy-Stieltjes Kernel Families  \n",
      "\n",
      " Documentos comunes en los 3 modelos: 0\n",
      "\n",
      " Coincidencias entre pares:\n",
      " - TF-IDF ∩ BM25: 4\n",
      " - TF-IDF ∩ FAISS: 1\n",
      " - BM25 ∩ FAISS: 0\n"
     ]
    },
    {
     "name": "stderr",
     "output_type": "stream",
     "text": [
      "C:\\Users\\steve\\AppData\\Local\\Packages\\PythonSoftwareFoundation.Python.3.11_qbz5n2kfra8p0\\LocalCache\\local-packages\\Python311\\site-packages\\torch\\nn\\modules\\module.py:1762: FutureWarning: `encoder_attention_mask` is deprecated and will be removed in version 4.55.0 for `BertSdpaSelfAttention.forward`.\n",
      "  return forward_call(*args, **kwargs)\n"
     ]
    }
   ],
   "source": [
    "comparar_rankings(\"¿Qué describe la ecuación de Swift-Hohenberg cerca de una inestabilidad?\")"
   ]
  },
  {
   "cell_type": "markdown",
   "id": "85c3207c",
   "metadata": {},
   "source": [
    "Los modelos TF-IDF y BM25 compartieron 4 documentos. FAISS, que se basa en la similitud de significado, solo coincidió en uno con TF-IDF y en ninguno con BM25. Esto demuestra que FAISS entiende el contexto y encuentra artículos relevantes, como los de la ecuación de Swift-Hohenberg, mientras que los otros modelos se limitan a la coincidencia exacta de palabras."
   ]
  },
  {
   "cell_type": "markdown",
   "id": "047806e5",
   "metadata": {},
   "source": [
    "###  Módulo RAG "
   ]
  },
  {
   "cell_type": "code",
   "execution_count": null,
   "id": "2589e09c",
   "metadata": {},
   "outputs": [],
   "source": [
    "#Libreria y clave API\n",
    "from openai import OpenAI\n",
    "client = OpenAI(api_key=\"\")"
   ]
  },
  {
   "cell_type": "code",
   "execution_count": null,
   "id": "28e03aa9",
   "metadata": {},
   "outputs": [],
   "source": [
    "#funcion de pregunta para modelo RAG\n",
    "def generate_rag_answer(query):\n",
    "    #Escogemos con la funcion de busqueda que queremos\n",
    "    docs = search_faiss(query, top_k=3)\n",
    "    context = \"\\n\".join(docs['abstract'].tolist())\n",
    "\n",
    "    prompt = f\"\"\"\n",
    "    Utiliza el siguiente contexto extraído de artículos científicos para responder a la pregunta del usuario de forma clara y relevante.\n",
    "    Contexto:\n",
    "    {context}\n",
    "    Pregunta: {query}\n",
    "    Respuesta:\n",
    "    \"\"\"\n",
    "\n",
    "    response = client.chat.completions.create(\n",
    "        model=\"gpt-4o\",\n",
    "        messages=[\n",
    "            {\"role\": \"system\", \"content\": \"Eres un asistente experto en artículos científicos.\"},\n",
    "            {\"role\": \"user\", \"content\": prompt}\n",
    "        ],\n",
    "        temperature=0.3,\n",
    "        max_tokens=450\n",
    "    )\n",
    "\n",
    "    return response.choices[0].message.content.strip()"
   ]
  },
  {
   "cell_type": "code",
   "execution_count": 84,
   "id": "a11916d4",
   "metadata": {},
   "outputs": [
    {
     "name": "stderr",
     "output_type": "stream",
     "text": [
      "C:\\Users\\steve\\AppData\\Local\\Packages\\PythonSoftwareFoundation.Python.3.11_qbz5n2kfra8p0\\LocalCache\\local-packages\\Python311\\site-packages\\torch\\nn\\modules\\module.py:1762: FutureWarning: `encoder_attention_mask` is deprecated and will be removed in version 4.55.0 for `BertSdpaSelfAttention.forward`.\n",
      "  return forward_call(*args, **kwargs)\n"
     ]
    },
    {
     "data": {
      "text/plain": [
       "'La ecuación de Swift-Hohenberg, en su variante conservativa compleja, describe una amplia gama de soluciones cerca de una inestabilidad, especialmente en el contexto de soluciones uniformes, periódicas y localizadas. En particular, las soluciones uniformes en el modelo conservativo son inherentemente inestables. Las soluciones periódicas también tienden a ser inestables, excepto dentro de un estrecho intervalo de parámetros que permite la existencia de múltiples estados localizados. Además, se establece un criterio generalizado de Vakhitov-Kolokolov para determinar la estabilidad de los estados localizados en la ecuación conservativa, lo cual se relaciona con las propiedades de estabilidad del modelo disipativo. Estos análisis y criterios ayudan a entender las características complejas de la ecuación cerca de una inestabilidad.'"
      ]
     },
     "execution_count": 84,
     "metadata": {},
     "output_type": "execute_result"
    }
   ],
   "source": [
    "generate_rag_answer(\"¿Qué describe la ecuación de Swift-Hohenberg cerca de una inestabilidad?\")"
   ]
  },
  {
   "cell_type": "markdown",
   "id": "bc60f200",
   "metadata": {},
   "source": [
    "### Prueba con Queriess.txt"
   ]
  },
  {
   "cell_type": "code",
   "execution_count": 94,
   "id": "3f5d4922",
   "metadata": {},
   "outputs": [],
   "source": [
    "with open('queries.txt') as f:\n",
    "    queries = [line.strip() for line in f.readlines() if line.strip()]"
   ]
  },
  {
   "cell_type": "code",
   "execution_count": 109,
   "id": "917c8983",
   "metadata": {},
   "outputs": [
    {
     "name": "stdout",
     "output_type": "stream",
     "text": [
      "\n",
      "=== Resultados para: electron correlations in magnetic nanowires\n",
      "\n",
      " Evaluación para la consulta: \"electron correlations in magnetic nanowires\"\n",
      "\n",
      "                                               TF-IDF  \\\n",
      "0   Temperature dependence of coercivity for isola...   \n",
      "1   Analysis of magic lengths in growth of support...   \n",
      "2   The growth mechanism of CuO nanowires synthesi...   \n",
      "3   Magnetic Moment Softening and Domain Wall Resi...   \n",
      "4   Thermally assisted domain wall nucleation in p...   \n",
      "5   Magnon contribution to the magnetoresistance o...   \n",
      "6   Nucleation, growth, and dissolution of Ag nano...   \n",
      "7   Dominance of quantum over classical correlatio...   \n",
      "8   Concept of a laser-plasma based electron sourc...   \n",
      "9   Current-phase Relationship, Thermal and Quantu...   \n",
      "10  Almost-quantum correlations violate the isotro...   \n",
      "\n",
      "                                                 BM25  \\\n",
      "0   Temperature dependence of coercivity for isola...   \n",
      "1   Role of electron correlations in transport thr...   \n",
      "2   Analysis of magic lengths in growth of support...   \n",
      "3   The growth mechanism of CuO nanowires synthesi...   \n",
      "4   Magnetic Moment Softening and Domain Wall Resi...   \n",
      "5   Thermally assisted domain wall nucleation in p...   \n",
      "6   Magnon contribution to the magnetoresistance o...   \n",
      "7   Quantized Ballistic Transport of Electrons and...   \n",
      "8   Nucleation, growth, and dissolution of Ag nano...   \n",
      "9   High magnetic field reveals the nature of exci...   \n",
      "10  Interplay of electron correlations, spin-orbit...   \n",
      "\n",
      "                                                FAISS  \n",
      "0   Role of electron correlations in transport thr...  \n",
      "1   Analysis of magic lengths in growth of support...  \n",
      "2   Conductance correlations in a mesoscopic spin ...  \n",
      "3   Intra-wire coupling in segmented Ni/Cu nanowir...  \n",
      "4   The nature of the electrical conduction in fer...  \n",
      "5   Spin Cross-Correlation Experiments in an Elect...  \n",
      "6   Temperature dependence of coercivity for isola...  \n",
      "7   Ferromagnetic proximity effect in F-QDot-S device  \n",
      "8   Magnetic Moment Softening and Domain Wall Resi...  \n",
      "9    Inverse Magnetoresistance of Molecular Junctions  \n",
      "10  Superconductivity in carbon nanotubes coupled ...  \n",
      "\n",
      " Documentos comunes en los 3 modelos: 3\n",
      "• Magnetic Moment Softening and Domain Wall Resistance in Ni Nanowires\n",
      "• Analysis of magic lengths in growth of supported metallic nanowires\n",
      "• Temperature dependence of coercivity for isolated Ni nanowires unraveled by high-sensitivity micromagnetometry\n",
      "\n",
      " Coincidencias entre pares:\n",
      " - TF-IDF ∩ BM25: 7\n",
      " - TF-IDF ∩ FAISS: 3\n",
      " - BM25 ∩ FAISS: 4\n",
      "\n",
      "=== Resultados para: QCD viscosities in magnetic fields\n",
      "\n",
      " Evaluación para la consulta: \"QCD viscosities in magnetic fields\"\n",
      "\n",
      "                                               TF-IDF  \\\n",
      "0   SU(3) Polyakov linear-sigma model: bulk and sh...   \n",
      "1   Is Induced QCD really QCD? The preservation of...   \n",
      "2          Flatland Electrons in High Magnetic Fields   \n",
      "3   Photospheric Magnetic Free Energy Density of S...   \n",
      "4   QCD Sum Rules and the Validity of Effective Mo...   \n",
      "5                          Effective Potential of QCD   \n",
      "6   On the Quasiparticle Description of Lattice QC...   \n",
      "7   Generation of magnetic fields by large-scale v...   \n",
      "8       Background-field method and QCD factorization   \n",
      "9   Thermal Field Theory in the Presence of a Back...   \n",
      "10               QCD thermodynamics at finite density   \n",
      "\n",
      "                                                 BM25  \\\n",
      "0   SU(3) Polyakov linear-sigma model: bulk and sh...   \n",
      "1                          Effective Potential of QCD   \n",
      "2   Shear and Bulk Viscosities of a Weakly Coupled...   \n",
      "3   Anisotropic electrical conductivity of magneti...   \n",
      "4   Is Induced QCD really QCD? The preservation of...   \n",
      "5   Thermal Field Theory in the Presence of a Back...   \n",
      "6       Background-field method and QCD factorization   \n",
      "7   SU(3) Polyakov Linear Sigma-Model in an Extern...   \n",
      "8           Domains in the Nonperturbative QCD Vacuum   \n",
      "9   Nonperturbative Renormalisation of Composite O...   \n",
      "10  Generation of magnetic fields by large-scale v...   \n",
      "\n",
      "                                                FAISS  \n",
      "0     Bulk viscosity of the massive Gross-Neveu model  \n",
      "1   Thermal Field Theory in the Presence of a Back...  \n",
      "2         Asymptotic freedom in strong magnetic field  \n",
      "3       Anomalous Viscosity of the Quark-Gluon Plasma  \n",
      "4   Shear and Bulk Viscosities of a Weakly Coupled...  \n",
      "5   Baryon number conservation and enforced electr...  \n",
      "6   Probing viscous regimes of spin transport with...  \n",
      "7   VISHNU hybrid model for viscous QCD matter at ...  \n",
      "8   Heavy-Quark Diffusion Dynamics in Quark-Gluon ...  \n",
      "9   Phase diagram of hot QCD in an external magnet...  \n",
      "10  SU(3) Polyakov linear-sigma model: bulk and sh...  \n",
      "\n",
      " Documentos comunes en los 3 modelos: 2\n",
      "• SU(3) Polyakov linear-sigma model: bulk and shear viscosity of QCD\n",
      "  matter in finite magnetic field\n",
      "• Thermal Field Theory in the Presence of a Background Magnetic Field and\n",
      "  its Application to QCD\n",
      "\n",
      " Coincidencias entre pares:\n",
      " - TF-IDF ∩ BM25: 6\n",
      " - TF-IDF ∩ FAISS: 2\n",
      " - BM25 ∩ FAISS: 3\n",
      "\n",
      "=== Resultados para: FFBRST transformation in Yang-Mills theory\n",
      "\n",
      " Evaluación para la consulta: \"FFBRST transformation in Yang-Mills theory\"\n",
      "\n"
     ]
    },
    {
     "name": "stderr",
     "output_type": "stream",
     "text": [
      "C:\\Users\\steve\\AppData\\Local\\Packages\\PythonSoftwareFoundation.Python.3.11_qbz5n2kfra8p0\\LocalCache\\local-packages\\Python311\\site-packages\\torch\\nn\\modules\\module.py:1762: FutureWarning: `encoder_attention_mask` is deprecated and will be removed in version 4.55.0 for `BertSdpaSelfAttention.forward`.\n",
      "  return forward_call(*args, **kwargs)\n",
      "C:\\Users\\steve\\AppData\\Local\\Packages\\PythonSoftwareFoundation.Python.3.11_qbz5n2kfra8p0\\LocalCache\\local-packages\\Python311\\site-packages\\torch\\nn\\modules\\module.py:1762: FutureWarning: `encoder_attention_mask` is deprecated and will be removed in version 4.55.0 for `BertSdpaSelfAttention.forward`.\n",
      "  return forward_call(*args, **kwargs)\n",
      "C:\\Users\\steve\\AppData\\Local\\Packages\\PythonSoftwareFoundation.Python.3.11_qbz5n2kfra8p0\\LocalCache\\local-packages\\Python311\\site-packages\\torch\\nn\\modules\\module.py:1762: FutureWarning: `encoder_attention_mask` is deprecated and will be removed in version 4.55.0 for `BertSdpaSelfAttention.forward`.\n",
      "  return forward_call(*args, **kwargs)\n"
     ]
    },
    {
     "name": "stdout",
     "output_type": "stream",
     "text": [
      "                                               TF-IDF  \\\n",
      "0   Maximal Abelian gauge and a generalized BRST t...   \n",
      "1   A Way of Separating Dynamics and Gauge Transfo...   \n",
      "2   A Theory of Transformation Monoids: Combinator...   \n",
      "3   The off-shell expansion relation of the Yang-M...   \n",
      "4   Topological Vector Symmetry of BRSTQFT and Con...   \n",
      "5   Integral transformation and Darboux transforma...   \n",
      "6     Classes of confining gauge field configurations   \n",
      "7   Global Regularity for the Yang-Mills Equations...   \n",
      "8   Half-monopoles and half-vortices in the Yang-M...   \n",
      "9   Exact Unitary Transformation of the One-Dimens...   \n",
      "10  Translation and Rotation of Transformation Med...   \n",
      "\n",
      "                                                 BM25  \\\n",
      "0   Maximal Abelian gauge and a generalized BRST t...   \n",
      "1   A Way of Separating Dynamics and Gauge Transfo...   \n",
      "2   A note on dual superconformal symmetry of the ...   \n",
      "3   Lax Pair for Strings in Lunin-Maldacena Backgr...   \n",
      "4   The off-shell expansion relation of the Yang-M...   \n",
      "5   Topological Vector Symmetry of BRSTQFT and Con...   \n",
      "6   General Solution of the non-abelian Gauss law ...   \n",
      "7   Half-monopoles and half-vortices in the Yang-M...   \n",
      "8   Critical fields on the M5-brane and noncommuta...   \n",
      "9   A Theory of Transformation Monoids: Combinator...   \n",
      "10  Instantons, Integrability and Discrete Light-C...   \n",
      "\n",
      "                                                FAISS  \n",
      "0   A Way of Separating Dynamics and Gauge Transfo...  \n",
      "1              Fractal structure of Yang-Mills fields  \n",
      "2   Instantons, Integrability and Discrete Light-C...  \n",
      "3   Yangian-type symmetries of non-planar leading ...  \n",
      "4       Quot schemes and Fourier-Mukai transformation  \n",
      "5   Maximal Abelian gauge and a generalized BRST t...  \n",
      "6   A note on dual superconformal symmetry of the ...  \n",
      "7   The off-shell expansion relation of the Yang-M...  \n",
      "8         Infrared analysis of quantum field theories  \n",
      "9                  Yang-Mills Theory in lambda-Gauges  \n",
      "10  Structure of Low-Energy Effective Action in N=...  \n",
      "\n",
      " Documentos comunes en los 3 modelos: 3\n",
      "• A Way of Separating Dynamics and Gauge Transformations in Yang-Mills\n",
      "  Theory\n",
      "• The off-shell expansion relation of the Yang-Mills scalar theory\n",
      "• Maximal Abelian gauge and a generalized BRST transformation\n",
      "\n",
      " Coincidencias entre pares:\n",
      " - TF-IDF ∩ BM25: 6\n",
      " - TF-IDF ∩ FAISS: 3\n",
      " - BM25 ∩ FAISS: 5\n",
      "\n",
      "=== Resultados para: adversarial attacks in text-to-image diffusion models\n",
      "\n",
      " Evaluación para la consulta: \"adversarial attacks in text-to-image diffusion models\"\n",
      "\n",
      "                                               TF-IDF  \\\n",
      "0   SnapFusion: Text-to-Image Diffusion Model on M...   \n",
      "1   Multi-objective Search of Robust Neural Archit...   \n",
      "2   Diffusion-based Adversarial Purification for I...   \n",
      "3   MIXPGD: Hybrid Adversarial Training for Speech...   \n",
      "4   Area is all you need: repeatable elements make...   \n",
      "5   State-of-the-art optical-based physical advers...   \n",
      "6   A Robust Adversarial Network-Based End-to-End ...   \n",
      "7                      Functional Adversarial Attacks   \n",
      "8          Adversarial joint attacks on legged robots   \n",
      "9   Generalization Bounds for Adversarial Contrast...   \n",
      "10  Towards the Desirable Decision Boundary by Mod...   \n",
      "\n",
      "                                                 BM25  \\\n",
      "0   Diffusion-based Adversarial Purification for I...   \n",
      "1   SnapFusion: Text-to-Image Diffusion Model on M...   \n",
      "2                        Stable Diffusion is Unstable   \n",
      "3                      Functional Adversarial Attacks   \n",
      "4   Invertible Consistency Distillation for Text-G...   \n",
      "5   State-of-the-art optical-based physical advers...   \n",
      "6   Multi-objective Search of Robust Neural Archit...   \n",
      "7   Area is all you need: repeatable elements make...   \n",
      "8      Adversarial Attack and Defense in Deep Ranking   \n",
      "9   MIXPGD: Hybrid Adversarial Training for Speech...   \n",
      "10  Towards Adversarially Robust Vision-Language M...   \n",
      "\n",
      "                                                FAISS  \n",
      "0                        Stable Diffusion is Unstable  \n",
      "1   Embedding Hidden Adversarial Capabilities in P...  \n",
      "2   Gradient-based Adversarial Attacks against Tex...  \n",
      "3   Diffusion-based Adversarial Purification for I...  \n",
      "4   TensorShield: Tensor-based Defense Against Adv...  \n",
      "5   Diffusion-based Adversarial Purification from ...  \n",
      "6   Towards Adversarially Robust Vision-Language M...  \n",
      "7   Generalization Bounds for Adversarial Contrast...  \n",
      "8   Less is More: Understanding Word-level Textual...  \n",
      "9   SnapFusion: Text-to-Image Diffusion Model on M...  \n",
      "10     Adversarial Attack and Defense in Deep Ranking  \n",
      "\n",
      " Documentos comunes en los 3 modelos: 2\n",
      "• Diffusion-based Adversarial Purification for Intrusion Detection\n",
      "• SnapFusion: Text-to-Image Diffusion Model on Mobile Devices within Two\n",
      "  Seconds\n",
      "\n",
      " Coincidencias entre pares:\n",
      " - TF-IDF ∩ BM25: 7\n",
      " - TF-IDF ∩ FAISS: 3\n",
      " - BM25 ∩ FAISS: 5\n",
      "\n",
      "=== Resultados para: hybrid robotic arms for agricultural applications\n",
      "\n",
      " Evaluación para la consulta: \"hybrid robotic arms for agricultural applications\"\n",
      "\n",
      "                                               TF-IDF  \\\n",
      "0   Design and Control of a Novel Six-Degree-of-Fr...   \n",
      "1   Exploring $k$ out of Top $\\rho$ Fraction of Ar...   \n",
      "2   Force Aware Branch Manipulation To Assist Agri...   \n",
      "3     Extreme Measures of Agricultural Financial Risk   \n",
      "4   A Fast Algorithm for PAC Combinatorial Pure Ex...   \n",
      "5   Exploring Dependence Structures in the Interna...   \n",
      "6   An Integrated Visual Servoing Framework for Pr...   \n",
      "7   Systems-theoretic Safety Assessment of Robotic...   \n",
      "8   Toward Fully Automated Robotic Platform for Re...   \n",
      "9   Multi-Scale Analysis of Agricultural Drought P...   \n",
      "10  Hot gas heating via magnetic arms in spiral ga...   \n",
      "\n",
      "                                                 BM25  \\\n",
      "0   Design and Control of a Novel Six-Degree-of-Fr...   \n",
      "1   An Integrated Visual Servoing Framework for Pr...   \n",
      "2   Force Aware Branch Manipulation To Assist Agri...   \n",
      "3     Extreme Measures of Agricultural Financial Risk   \n",
      "4   Multi-Scale Analysis of Agricultural Drought P...   \n",
      "5   Large increases in public R&D investment are n...   \n",
      "6   Exploring $k$ out of Top $\\rho$ Fraction of Ar...   \n",
      "7   Robotically adjustable kinematics in a wrist-d...   \n",
      "8   Exploring Dependence Structures in the Interna...   \n",
      "9   BASED: Bundle-Adjusting Surgical Endoscopic Dy...   \n",
      "10  Designing Applications with Distributed Databa...   \n",
      "\n",
      "                                                FAISS  \n",
      "0   Design and Control of a Novel Six-Degree-of-Fr...  \n",
      "1   Force Aware Branch Manipulation To Assist Agri...  \n",
      "2   An Integrated Visual Servoing Framework for Pr...  \n",
      "3   Data-Efficient Online Learning of Ball Placeme...  \n",
      "4   Sensing environmental interaction physics to t...  \n",
      "5   A Lightweight Force-Controllable Wearable Arm ...  \n",
      "6   Diaphragm Ankle Actuation for Efficient Series...  \n",
      "7   GRaCE: Balancing Multiple Criteria to Achieve ...  \n",
      "8   Online Coverage Planning for an Autonomous Wee...  \n",
      "9   ChicGrasp: Imitation-Learning based Customized...  \n",
      "10  Estimating Achievable Range of Ground Robots O...  \n",
      "\n",
      " Documentos comunes en los 3 modelos: 3\n",
      "• Force Aware Branch Manipulation To Assist Agricultural Tasks\n",
      "• An Integrated Visual Servoing Framework for Precise Robotic Pruning Operations in Modern Commercial Orchard\n",
      "• Design and Control of a Novel Six-Degree-of-Freedom Hybrid Robotic Arm\n",
      "\n",
      " Coincidencias entre pares:\n",
      " - TF-IDF ∩ BM25: 7\n",
      " - TF-IDF ∩ FAISS: 3\n",
      " - BM25 ∩ FAISS: 3\n"
     ]
    },
    {
     "name": "stderr",
     "output_type": "stream",
     "text": [
      "C:\\Users\\steve\\AppData\\Local\\Packages\\PythonSoftwareFoundation.Python.3.11_qbz5n2kfra8p0\\LocalCache\\local-packages\\Python311\\site-packages\\torch\\nn\\modules\\module.py:1762: FutureWarning: `encoder_attention_mask` is deprecated and will be removed in version 4.55.0 for `BertSdpaSelfAttention.forward`.\n",
      "  return forward_call(*args, **kwargs)\n",
      "C:\\Users\\steve\\AppData\\Local\\Packages\\PythonSoftwareFoundation.Python.3.11_qbz5n2kfra8p0\\LocalCache\\local-packages\\Python311\\site-packages\\torch\\nn\\modules\\module.py:1762: FutureWarning: `encoder_attention_mask` is deprecated and will be removed in version 4.55.0 for `BertSdpaSelfAttention.forward`.\n",
      "  return forward_call(*args, **kwargs)\n"
     ]
    }
   ],
   "source": [
    "for q in queries:\n",
    "    print(\"\\n=== Resultados para:\", q)\n",
    "    comparar_rankings(q)"
   ]
  }
 ],
 "metadata": {
  "kernelspec": {
   "display_name": "Python 3",
   "language": "python",
   "name": "python3"
  },
  "language_info": {
   "codemirror_mode": {
    "name": "ipython",
    "version": 3
   },
   "file_extension": ".py",
   "mimetype": "text/x-python",
   "name": "python",
   "nbconvert_exporter": "python",
   "pygments_lexer": "ipython3",
   "version": "3.11.9"
  }
 },
 "nbformat": 4,
 "nbformat_minor": 5
}
