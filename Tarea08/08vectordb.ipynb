{
 "cells": [
  {
   "cell_type": "markdown",
   "id": "7900d048bdae22eb",
   "metadata": {},
   "source": [
    "# Ejercicio 8: Bases de Datos Vectoriales\n",
    "\n",
    "Las bases de datos vectoriales permiten almacenar y recuperar información representada como vectores en espacios de alta dimensión. Primero vamos a revisar los fundamentos matemáticos en los que se basan.\n",
    "\n",
    "## 1. Espacios Vectoriales\n",
    "\n",
    "Cada documento, imagen, o consulta se representa como un vector real en un espacio ℝ^n:\n",
    "\n",
    "$\\[ \\vec{d} = [d_1, d_2, \\dots, d_n] \\in \\mathbb{R}^n \\]$\n",
    "\n",
    "Donde $\\( n \\)$ suele ser 384, 768 o 1536, dependiendo del modelo de embeddings utilizado."
   ]
  },
  {
   "cell_type": "code",
   "execution_count": 2,
   "id": "1fb2ae88",
   "metadata": {},
   "outputs": [],
   "source": [
    "from sklearn.datasets import fetch_20newsgroups\n",
    "import pandas as pd "
   ]
  },
  {
   "cell_type": "code",
   "execution_count": 11,
   "id": "36e391b0",
   "metadata": {},
   "outputs": [
    {
     "name": "stdout",
     "output_type": "stream",
     "text": [
      "Collecting numpy==1.24.4\n",
      "  Downloading numpy-1.24.4-cp311-cp311-win_amd64.whl.metadata (5.6 kB)\n",
      "Downloading numpy-1.24.4-cp311-cp311-win_amd64.whl (14.8 MB)\n",
      "   ---------------------------------------- 0.0/14.8 MB ? eta -:--:--\n",
      "   ---------------------------------------- 0.0/14.8 MB ? eta -:--:--\n",
      "   ---------------------------------------- 0.0/14.8 MB ? eta -:--:--\n",
      "   ---------------------------------------- 0.0/14.8 MB ? eta -:--:--\n",
      "    --------------------------------------- 0.3/14.8 MB ? eta -:--:--\n",
      "    --------------------------------------- 0.3/14.8 MB ? eta -:--:--\n",
      "   - -------------------------------------- 0.5/14.8 MB 541.6 kB/s eta 0:00:27\n",
      "   - -------------------------------------- 0.5/14.8 MB 541.6 kB/s eta 0:00:27\n",
      "   -- ------------------------------------- 0.8/14.8 MB 621.2 kB/s eta 0:00:23\n",
      "   -- ------------------------------------- 0.8/14.8 MB 621.2 kB/s eta 0:00:23\n",
      "   -- ------------------------------------- 0.8/14.8 MB 621.2 kB/s eta 0:00:23\n",
      "   -- ------------------------------------- 0.8/14.8 MB 621.2 kB/s eta 0:00:23\n",
      "   -- ------------------------------------- 1.0/14.8 MB 474.9 kB/s eta 0:00:30\n",
      "   --- ------------------------------------ 1.3/14.8 MB 520.1 kB/s eta 0:00:27\n",
      "   --- ------------------------------------ 1.3/14.8 MB 520.1 kB/s eta 0:00:27\n",
      "   --- ------------------------------------ 1.3/14.8 MB 520.1 kB/s eta 0:00:27\n",
      "   ---- ----------------------------------- 1.6/14.8 MB 502.4 kB/s eta 0:00:27\n",
      "   ---- ----------------------------------- 1.6/14.8 MB 502.4 kB/s eta 0:00:27\n",
      "   ---- ----------------------------------- 1.8/14.8 MB 524.3 kB/s eta 0:00:25\n",
      "   ----- ---------------------------------- 2.1/14.8 MB 551.4 kB/s eta 0:00:24\n",
      "   ----- ---------------------------------- 2.1/14.8 MB 551.4 kB/s eta 0:00:24\n",
      "   ----- ---------------------------------- 2.1/14.8 MB 551.4 kB/s eta 0:00:24\n",
      "   ----- ---------------------------------- 2.1/14.8 MB 551.4 kB/s eta 0:00:24\n",
      "   ------ --------------------------------- 2.4/14.8 MB 516.2 kB/s eta 0:00:25\n",
      "   ------- -------------------------------- 2.6/14.8 MB 541.2 kB/s eta 0:00:23\n",
      "   ------- -------------------------------- 2.9/14.8 MB 561.1 kB/s eta 0:00:22\n",
      "   -------- ------------------------------- 3.1/14.8 MB 587.8 kB/s eta 0:00:20\n",
      "   -------- ------------------------------- 3.1/14.8 MB 587.8 kB/s eta 0:00:20\n",
      "   --------- ------------------------------ 3.4/14.8 MB 590.4 kB/s eta 0:00:20\n",
      "   --------- ------------------------------ 3.4/14.8 MB 590.4 kB/s eta 0:00:20\n",
      "   --------- ------------------------------ 3.7/14.8 MB 591.0 kB/s eta 0:00:19\n",
      "   --------- ------------------------------ 3.7/14.8 MB 591.0 kB/s eta 0:00:19\n",
      "   ---------- ----------------------------- 3.9/14.8 MB 597.6 kB/s eta 0:00:19\n",
      "   ---------- ----------------------------- 3.9/14.8 MB 597.6 kB/s eta 0:00:19\n",
      "   ----------- ---------------------------- 4.2/14.8 MB 609.4 kB/s eta 0:00:18\n",
      "   ------------ --------------------------- 4.7/14.8 MB 649.7 kB/s eta 0:00:16\n",
      "   -------------- ------------------------- 5.2/14.8 MB 706.8 kB/s eta 0:00:14\n",
      "   --------------- ------------------------ 5.8/14.8 MB 754.4 kB/s eta 0:00:13\n",
      "   ---------------- ----------------------- 6.0/14.8 MB 777.0 kB/s eta 0:00:12\n",
      "   ----------------- ---------------------- 6.6/14.8 MB 828.5 kB/s eta 0:00:10\n",
      "   ------------------ --------------------- 6.8/14.8 MB 847.4 kB/s eta 0:00:10\n",
      "   -------------------- ------------------- 7.6/14.8 MB 906.8 kB/s eta 0:00:08\n",
      "   -------------------- ------------------- 7.6/14.8 MB 906.8 kB/s eta 0:00:08\n",
      "   --------------------- ------------------ 8.1/14.8 MB 916.8 kB/s eta 0:00:08\n",
      "   ------------------------ --------------- 8.9/14.8 MB 992.2 kB/s eta 0:00:06\n",
      "   --------------------------- ------------ 10.2/14.8 MB 1.1 MB/s eta 0:00:05\n",
      "   ---------------------------- ----------- 10.7/14.8 MB 1.2 MB/s eta 0:00:04\n",
      "   ------------------------------- -------- 11.5/14.8 MB 1.2 MB/s eta 0:00:03\n",
      "   -------------------------------- ------- 12.1/14.8 MB 1.2 MB/s eta 0:00:03\n",
      "   ----------------------------------- ---- 13.1/14.8 MB 1.3 MB/s eta 0:00:02\n",
      "   ------------------------------------ --- 13.6/14.8 MB 1.3 MB/s eta 0:00:01\n",
      "   ------------------------------------ --- 13.6/14.8 MB 1.3 MB/s eta 0:00:01\n",
      "   ------------------------------------ --- 13.6/14.8 MB 1.3 MB/s eta 0:00:01\n",
      "   ------------------------------------- -- 13.9/14.8 MB 1.3 MB/s eta 0:00:01\n",
      "   -------------------------------------- - 14.4/14.8 MB 1.3 MB/s eta 0:00:01\n",
      "   -------------------------------------- - 14.4/14.8 MB 1.3 MB/s eta 0:00:01\n",
      "   ---------------------------------------- 14.8/14.8 MB 1.3 MB/s eta 0:00:00\n",
      "Installing collected packages: numpy\n",
      "Successfully installed numpy-1.24.4\n",
      "Note: you may need to restart the kernel to use updated packages.\n"
     ]
    }
   ],
   "source": [
    "%pip install numpy==1.24.4 --only-binary :all:\n",
    "\n"
   ]
  },
  {
   "cell_type": "code",
   "execution_count": 12,
   "id": "0608d768",
   "metadata": {},
   "outputs": [
    {
     "name": "stdout",
     "output_type": "stream",
     "text": [
      "________________________________________________________________________________\n",
      "Cache loading failed\n",
      "________________________________________________________________________________\n",
      "No module named 'numpy._core'\n"
     ]
    },
    {
     "ename": "KeyboardInterrupt",
     "evalue": "",
     "output_type": "error",
     "traceback": [
      "\u001b[31m---------------------------------------------------------------------------\u001b[39m",
      "\u001b[31mKeyboardInterrupt\u001b[39m                         Traceback (most recent call last)",
      "\u001b[36mCell\u001b[39m\u001b[36m \u001b[39m\u001b[32mIn[12]\u001b[39m\u001b[32m, line 1\u001b[39m\n\u001b[32m----> \u001b[39m\u001b[32m1\u001b[39m newsgroups_data = \u001b[43mfetch_20newsgroups\u001b[49m\u001b[43m(\u001b[49m\u001b[43msubset\u001b[49m\u001b[43m=\u001b[49m\u001b[33;43m'\u001b[39;49m\u001b[33;43mall\u001b[39;49m\u001b[33;43m'\u001b[39;49m\u001b[43m,\u001b[49m\u001b[43m \u001b[49m\u001b[43mremove\u001b[49m\u001b[43m=\u001b[49m\u001b[43m(\u001b[49m\u001b[33;43m'\u001b[39;49m\u001b[33;43mheaders\u001b[39;49m\u001b[33;43m'\u001b[39;49m\u001b[43m,\u001b[49m\u001b[43m \u001b[49m\u001b[33;43m'\u001b[39;49m\u001b[33;43mfooters\u001b[39;49m\u001b[33;43m'\u001b[39;49m\u001b[43m,\u001b[49m\u001b[43m \u001b[49m\u001b[33;43m'\u001b[39;49m\u001b[33;43mquotes\u001b[39;49m\u001b[33;43m'\u001b[39;49m\u001b[43m)\u001b[49m\u001b[43m)\u001b[49m\n",
      "\u001b[36mFile \u001b[39m\u001b[32md:\\Universidad\\8 - Octavo\\Recuperacion de la informacion\\Tareas\\.venv311\\Lib\\site-packages\\sklearn\\utils\\_param_validation.py:218\u001b[39m, in \u001b[36mvalidate_params.<locals>.decorator.<locals>.wrapper\u001b[39m\u001b[34m(*args, **kwargs)\u001b[39m\n\u001b[32m    212\u001b[39m \u001b[38;5;28;01mtry\u001b[39;00m:\n\u001b[32m    213\u001b[39m     \u001b[38;5;28;01mwith\u001b[39;00m config_context(\n\u001b[32m    214\u001b[39m         skip_parameter_validation=(\n\u001b[32m    215\u001b[39m             prefer_skip_nested_validation \u001b[38;5;129;01mor\u001b[39;00m global_skip_validation\n\u001b[32m    216\u001b[39m         )\n\u001b[32m    217\u001b[39m     ):\n\u001b[32m--> \u001b[39m\u001b[32m218\u001b[39m         \u001b[38;5;28;01mreturn\u001b[39;00m \u001b[43mfunc\u001b[49m\u001b[43m(\u001b[49m\u001b[43m*\u001b[49m\u001b[43margs\u001b[49m\u001b[43m,\u001b[49m\u001b[43m \u001b[49m\u001b[43m*\u001b[49m\u001b[43m*\u001b[49m\u001b[43mkwargs\u001b[49m\u001b[43m)\u001b[49m\n\u001b[32m    219\u001b[39m \u001b[38;5;28;01mexcept\u001b[39;00m InvalidParameterError \u001b[38;5;28;01mas\u001b[39;00m e:\n\u001b[32m    220\u001b[39m     \u001b[38;5;66;03m# When the function is just a wrapper around an estimator, we allow\u001b[39;00m\n\u001b[32m    221\u001b[39m     \u001b[38;5;66;03m# the function to delegate validation to the estimator, but we replace\u001b[39;00m\n\u001b[32m    222\u001b[39m     \u001b[38;5;66;03m# the name of the estimator by the name of the function in the error\u001b[39;00m\n\u001b[32m    223\u001b[39m     \u001b[38;5;66;03m# message to avoid confusion.\u001b[39;00m\n\u001b[32m    224\u001b[39m     msg = re.sub(\n\u001b[32m    225\u001b[39m         \u001b[33mr\u001b[39m\u001b[33m\"\u001b[39m\u001b[33mparameter of \u001b[39m\u001b[33m\\\u001b[39m\u001b[33mw+ must be\u001b[39m\u001b[33m\"\u001b[39m,\n\u001b[32m    226\u001b[39m         \u001b[33mf\u001b[39m\u001b[33m\"\u001b[39m\u001b[33mparameter of \u001b[39m\u001b[38;5;132;01m{\u001b[39;00mfunc.\u001b[34m__qualname__\u001b[39m\u001b[38;5;132;01m}\u001b[39;00m\u001b[33m must be\u001b[39m\u001b[33m\"\u001b[39m,\n\u001b[32m    227\u001b[39m         \u001b[38;5;28mstr\u001b[39m(e),\n\u001b[32m    228\u001b[39m     )\n",
      "\u001b[36mFile \u001b[39m\u001b[32md:\\Universidad\\8 - Octavo\\Recuperacion de la informacion\\Tareas\\.venv311\\Lib\\site-packages\\sklearn\\datasets\\_twenty_newsgroups.py:322\u001b[39m, in \u001b[36mfetch_20newsgroups\u001b[39m\u001b[34m(data_home, subset, categories, shuffle, random_state, remove, download_if_missing, return_X_y, n_retries, delay)\u001b[39m\n\u001b[32m    320\u001b[39m \u001b[38;5;28;01mif\u001b[39;00m download_if_missing:\n\u001b[32m    321\u001b[39m     logger.info(\u001b[33m\"\u001b[39m\u001b[33mDownloading 20news dataset. This may take a few minutes.\u001b[39m\u001b[33m\"\u001b[39m)\n\u001b[32m--> \u001b[39m\u001b[32m322\u001b[39m     cache = \u001b[43m_download_20newsgroups\u001b[49m\u001b[43m(\u001b[49m\n\u001b[32m    323\u001b[39m \u001b[43m        \u001b[49m\u001b[43mtarget_dir\u001b[49m\u001b[43m=\u001b[49m\u001b[43mtwenty_home\u001b[49m\u001b[43m,\u001b[49m\n\u001b[32m    324\u001b[39m \u001b[43m        \u001b[49m\u001b[43mcache_path\u001b[49m\u001b[43m=\u001b[49m\u001b[43mcache_path\u001b[49m\u001b[43m,\u001b[49m\n\u001b[32m    325\u001b[39m \u001b[43m        \u001b[49m\u001b[43mn_retries\u001b[49m\u001b[43m=\u001b[49m\u001b[43mn_retries\u001b[49m\u001b[43m,\u001b[49m\n\u001b[32m    326\u001b[39m \u001b[43m        \u001b[49m\u001b[43mdelay\u001b[49m\u001b[43m=\u001b[49m\u001b[43mdelay\u001b[49m\u001b[43m,\u001b[49m\n\u001b[32m    327\u001b[39m \u001b[43m    \u001b[49m\u001b[43m)\u001b[49m\n\u001b[32m    328\u001b[39m \u001b[38;5;28;01melse\u001b[39;00m:\n\u001b[32m    329\u001b[39m     \u001b[38;5;28;01mraise\u001b[39;00m \u001b[38;5;167;01mOSError\u001b[39;00m(\u001b[33m\"\u001b[39m\u001b[33m20Newsgroups dataset not found\u001b[39m\u001b[33m\"\u001b[39m)\n",
      "\u001b[36mFile \u001b[39m\u001b[32md:\\Universidad\\8 - Octavo\\Recuperacion de la informacion\\Tareas\\.venv311\\Lib\\site-packages\\sklearn\\datasets\\_twenty_newsgroups.py:78\u001b[39m, in \u001b[36m_download_20newsgroups\u001b[39m\u001b[34m(target_dir, cache_path, n_retries, delay)\u001b[39m\n\u001b[32m     75\u001b[39m os.makedirs(target_dir, exist_ok=\u001b[38;5;28;01mTrue\u001b[39;00m)\n\u001b[32m     77\u001b[39m logger.info(\u001b[33m\"\u001b[39m\u001b[33mDownloading dataset from \u001b[39m\u001b[38;5;132;01m%s\u001b[39;00m\u001b[33m (14 MB)\u001b[39m\u001b[33m\"\u001b[39m, ARCHIVE.url)\n\u001b[32m---> \u001b[39m\u001b[32m78\u001b[39m archive_path = \u001b[43m_fetch_remote\u001b[49m\u001b[43m(\u001b[49m\n\u001b[32m     79\u001b[39m \u001b[43m    \u001b[49m\u001b[43mARCHIVE\u001b[49m\u001b[43m,\u001b[49m\u001b[43m \u001b[49m\u001b[43mdirname\u001b[49m\u001b[43m=\u001b[49m\u001b[43mtarget_dir\u001b[49m\u001b[43m,\u001b[49m\u001b[43m \u001b[49m\u001b[43mn_retries\u001b[49m\u001b[43m=\u001b[49m\u001b[43mn_retries\u001b[49m\u001b[43m,\u001b[49m\u001b[43m \u001b[49m\u001b[43mdelay\u001b[49m\u001b[43m=\u001b[49m\u001b[43mdelay\u001b[49m\n\u001b[32m     80\u001b[39m \u001b[43m\u001b[49m\u001b[43m)\u001b[49m\n\u001b[32m     82\u001b[39m logger.debug(\u001b[33m\"\u001b[39m\u001b[33mDecompressing \u001b[39m\u001b[38;5;132;01m%s\u001b[39;00m\u001b[33m\"\u001b[39m, archive_path)\n\u001b[32m     83\u001b[39m \u001b[38;5;28;01mwith\u001b[39;00m tarfile.open(archive_path, \u001b[33m\"\u001b[39m\u001b[33mr:gz\u001b[39m\u001b[33m\"\u001b[39m) \u001b[38;5;28;01mas\u001b[39;00m fp:\n\u001b[32m     84\u001b[39m     \u001b[38;5;66;03m# Use filter=\"data\" to prevent the most dangerous security issues.\u001b[39;00m\n\u001b[32m     85\u001b[39m     \u001b[38;5;66;03m# For more details, see\u001b[39;00m\n\u001b[32m     86\u001b[39m     \u001b[38;5;66;03m# https://docs.python.org/3.9/library/tarfile.html#tarfile.TarFile.extractall\u001b[39;00m\n",
      "\u001b[36mFile \u001b[39m\u001b[32md:\\Universidad\\8 - Octavo\\Recuperacion de la informacion\\Tareas\\.venv311\\Lib\\site-packages\\sklearn\\datasets\\_base.py:1512\u001b[39m, in \u001b[36m_fetch_remote\u001b[39m\u001b[34m(remote, dirname, n_retries, delay)\u001b[39m\n\u001b[32m   1510\u001b[39m \u001b[38;5;28;01mwhile\u001b[39;00m \u001b[38;5;28;01mTrue\u001b[39;00m:\n\u001b[32m   1511\u001b[39m     \u001b[38;5;28;01mtry\u001b[39;00m:\n\u001b[32m-> \u001b[39m\u001b[32m1512\u001b[39m         \u001b[43murlretrieve\u001b[49m\u001b[43m(\u001b[49m\u001b[43mremote\u001b[49m\u001b[43m.\u001b[49m\u001b[43murl\u001b[49m\u001b[43m,\u001b[49m\u001b[43m \u001b[49m\u001b[43mtemp_file_path\u001b[49m\u001b[43m)\u001b[49m\n\u001b[32m   1513\u001b[39m         \u001b[38;5;28;01mbreak\u001b[39;00m\n\u001b[32m   1514\u001b[39m     \u001b[38;5;28;01mexcept\u001b[39;00m (URLError, \u001b[38;5;167;01mTimeoutError\u001b[39;00m):\n",
      "\u001b[36mFile \u001b[39m\u001b[32mC:\\Program Files\\WindowsApps\\PythonSoftwareFoundation.Python.3.11_3.11.2544.0_x64__qbz5n2kfra8p0\\Lib\\urllib\\request.py:270\u001b[39m, in \u001b[36murlretrieve\u001b[39m\u001b[34m(url, filename, reporthook, data)\u001b[39m\n\u001b[32m    267\u001b[39m     reporthook(blocknum, bs, size)\n\u001b[32m    269\u001b[39m \u001b[38;5;28;01mwhile\u001b[39;00m \u001b[38;5;28;01mTrue\u001b[39;00m:\n\u001b[32m--> \u001b[39m\u001b[32m270\u001b[39m     block = \u001b[43mfp\u001b[49m\u001b[43m.\u001b[49m\u001b[43mread\u001b[49m\u001b[43m(\u001b[49m\u001b[43mbs\u001b[49m\u001b[43m)\u001b[49m\n\u001b[32m    271\u001b[39m     \u001b[38;5;28;01mif\u001b[39;00m \u001b[38;5;129;01mnot\u001b[39;00m block:\n\u001b[32m    272\u001b[39m         \u001b[38;5;28;01mbreak\u001b[39;00m\n",
      "\u001b[36mFile \u001b[39m\u001b[32mC:\\Program Files\\WindowsApps\\PythonSoftwareFoundation.Python.3.11_3.11.2544.0_x64__qbz5n2kfra8p0\\Lib\\http\\client.py:473\u001b[39m, in \u001b[36mHTTPResponse.read\u001b[39m\u001b[34m(self, amt)\u001b[39m\n\u001b[32m    470\u001b[39m \u001b[38;5;28;01mif\u001b[39;00m \u001b[38;5;28mself\u001b[39m.length \u001b[38;5;129;01mis\u001b[39;00m \u001b[38;5;129;01mnot\u001b[39;00m \u001b[38;5;28;01mNone\u001b[39;00m \u001b[38;5;129;01mand\u001b[39;00m amt > \u001b[38;5;28mself\u001b[39m.length:\n\u001b[32m    471\u001b[39m     \u001b[38;5;66;03m# clip the read to the \"end of response\"\u001b[39;00m\n\u001b[32m    472\u001b[39m     amt = \u001b[38;5;28mself\u001b[39m.length\n\u001b[32m--> \u001b[39m\u001b[32m473\u001b[39m s = \u001b[38;5;28mself\u001b[39m.fp.read(amt)\n\u001b[32m    474\u001b[39m \u001b[38;5;28;01mif\u001b[39;00m \u001b[38;5;129;01mnot\u001b[39;00m s \u001b[38;5;129;01mand\u001b[39;00m amt:\n\u001b[32m    475\u001b[39m     \u001b[38;5;66;03m# Ideally, we would raise IncompleteRead if the content-length\u001b[39;00m\n\u001b[32m    476\u001b[39m     \u001b[38;5;66;03m# wasn't satisfied, but it might break compatibility.\u001b[39;00m\n\u001b[32m    477\u001b[39m     \u001b[38;5;28mself\u001b[39m._close_conn()\n",
      "\u001b[36mFile \u001b[39m\u001b[32mC:\\Program Files\\WindowsApps\\PythonSoftwareFoundation.Python.3.11_3.11.2544.0_x64__qbz5n2kfra8p0\\Lib\\socket.py:706\u001b[39m, in \u001b[36mSocketIO.readinto\u001b[39m\u001b[34m(self, b)\u001b[39m\n\u001b[32m    704\u001b[39m \u001b[38;5;28;01mwhile\u001b[39;00m \u001b[38;5;28;01mTrue\u001b[39;00m:\n\u001b[32m    705\u001b[39m     \u001b[38;5;28;01mtry\u001b[39;00m:\n\u001b[32m--> \u001b[39m\u001b[32m706\u001b[39m         \u001b[38;5;28;01mreturn\u001b[39;00m \u001b[38;5;28;43mself\u001b[39;49m\u001b[43m.\u001b[49m\u001b[43m_sock\u001b[49m\u001b[43m.\u001b[49m\u001b[43mrecv_into\u001b[49m\u001b[43m(\u001b[49m\u001b[43mb\u001b[49m\u001b[43m)\u001b[49m\n\u001b[32m    707\u001b[39m     \u001b[38;5;28;01mexcept\u001b[39;00m timeout:\n\u001b[32m    708\u001b[39m         \u001b[38;5;28mself\u001b[39m._timeout_occurred = \u001b[38;5;28;01mTrue\u001b[39;00m\n",
      "\u001b[36mFile \u001b[39m\u001b[32mC:\\Program Files\\WindowsApps\\PythonSoftwareFoundation.Python.3.11_3.11.2544.0_x64__qbz5n2kfra8p0\\Lib\\ssl.py:1314\u001b[39m, in \u001b[36mSSLSocket.recv_into\u001b[39m\u001b[34m(self, buffer, nbytes, flags)\u001b[39m\n\u001b[32m   1310\u001b[39m     \u001b[38;5;28;01mif\u001b[39;00m flags != \u001b[32m0\u001b[39m:\n\u001b[32m   1311\u001b[39m         \u001b[38;5;28;01mraise\u001b[39;00m \u001b[38;5;167;01mValueError\u001b[39;00m(\n\u001b[32m   1312\u001b[39m           \u001b[33m\"\u001b[39m\u001b[33mnon-zero flags not allowed in calls to recv_into() on \u001b[39m\u001b[38;5;132;01m%s\u001b[39;00m\u001b[33m\"\u001b[39m %\n\u001b[32m   1313\u001b[39m           \u001b[38;5;28mself\u001b[39m.\u001b[34m__class__\u001b[39m)\n\u001b[32m-> \u001b[39m\u001b[32m1314\u001b[39m     \u001b[38;5;28;01mreturn\u001b[39;00m \u001b[38;5;28;43mself\u001b[39;49m\u001b[43m.\u001b[49m\u001b[43mread\u001b[49m\u001b[43m(\u001b[49m\u001b[43mnbytes\u001b[49m\u001b[43m,\u001b[49m\u001b[43m \u001b[49m\u001b[43mbuffer\u001b[49m\u001b[43m)\u001b[49m\n\u001b[32m   1315\u001b[39m \u001b[38;5;28;01melse\u001b[39;00m:\n\u001b[32m   1316\u001b[39m     \u001b[38;5;28;01mreturn\u001b[39;00m \u001b[38;5;28msuper\u001b[39m().recv_into(buffer, nbytes, flags)\n",
      "\u001b[36mFile \u001b[39m\u001b[32mC:\\Program Files\\WindowsApps\\PythonSoftwareFoundation.Python.3.11_3.11.2544.0_x64__qbz5n2kfra8p0\\Lib\\ssl.py:1166\u001b[39m, in \u001b[36mSSLSocket.read\u001b[39m\u001b[34m(self, len, buffer)\u001b[39m\n\u001b[32m   1164\u001b[39m \u001b[38;5;28;01mtry\u001b[39;00m:\n\u001b[32m   1165\u001b[39m     \u001b[38;5;28;01mif\u001b[39;00m buffer \u001b[38;5;129;01mis\u001b[39;00m \u001b[38;5;129;01mnot\u001b[39;00m \u001b[38;5;28;01mNone\u001b[39;00m:\n\u001b[32m-> \u001b[39m\u001b[32m1166\u001b[39m         \u001b[38;5;28;01mreturn\u001b[39;00m \u001b[38;5;28;43mself\u001b[39;49m\u001b[43m.\u001b[49m\u001b[43m_sslobj\u001b[49m\u001b[43m.\u001b[49m\u001b[43mread\u001b[49m\u001b[43m(\u001b[49m\u001b[38;5;28;43mlen\u001b[39;49m\u001b[43m,\u001b[49m\u001b[43m \u001b[49m\u001b[43mbuffer\u001b[49m\u001b[43m)\u001b[49m\n\u001b[32m   1167\u001b[39m     \u001b[38;5;28;01melse\u001b[39;00m:\n\u001b[32m   1168\u001b[39m         \u001b[38;5;28;01mreturn\u001b[39;00m \u001b[38;5;28mself\u001b[39m._sslobj.read(\u001b[38;5;28mlen\u001b[39m)\n",
      "\u001b[31mKeyboardInterrupt\u001b[39m: "
     ]
    }
   ],
   "source": [
    "newsgroups_data = fetch_20newsgroups(subset='all', remove=('headers', 'footers', 'quotes'))\n"
   ]
  },
  {
   "cell_type": "code",
   "execution_count": null,
   "id": "a17d213a",
   "metadata": {},
   "outputs": [
    {
     "name": "stdout",
     "output_type": "stream",
     "text": [
      "                                                 raw\n",
      "0  \\n\\nI am sure some bashers of Pens fans are pr...\n",
      "1  My brother is in the market for a high-perform...\n",
      "2  \\n\\n\\n\\n\\tFinally you said what you dream abou...\n",
      "3  \\nThink!\\n\\nIt's the SCSI card doing the DMA t...\n",
      "4  1)    I have an old Jasmine drive which I cann...\n"
     ]
    }
   ],
   "source": [
    "# Paso 2: Crear un DataFrame solo con los documentos de texto\n",
    "newgroupsdocs_df = pd.DataFrame({'raw': newsgroups_data.data})\n",
    "\n",
    "# (Opcional) Visualiza las primeras filas\n",
    "print(newgroupsdocs_df.head())"
   ]
  },
  {
   "cell_type": "code",
   "execution_count": null,
   "id": "5ad75815",
   "metadata": {},
   "outputs": [
    {
     "name": "stderr",
     "output_type": "stream",
     "text": [
      "[nltk_data] Downloading package stopwords to\n",
      "[nltk_data]     C:\\Users\\steve\\AppData\\Roaming\\nltk_data...\n",
      "[nltk_data]   Package stopwords is already up-to-date!\n",
      "[nltk_data] Downloading package punkt_tab to\n",
      "[nltk_data]     C:\\Users\\steve\\AppData\\Roaming\\nltk_data...\n",
      "[nltk_data]   Package punkt_tab is already up-to-date!\n"
     ]
    },
    {
     "data": {
      "text/plain": [
       "True"
      ]
     },
     "execution_count": 31,
     "metadata": {},
     "output_type": "execute_result"
    }
   ],
   "source": [
    "from nltk.corpus import stopwords\n",
    "import nltk\n",
    "nltk.download('stopwords')\n",
    "nltk.download('punkt_tab')"
   ]
  },
  {
   "cell_type": "code",
   "execution_count": null,
   "id": "190f3c90",
   "metadata": {},
   "outputs": [],
   "source": [
    "from nltk.tokenize import word_tokenize"
   ]
  },
  {
   "cell_type": "code",
   "execution_count": null,
   "id": "0d31b05e",
   "metadata": {},
   "outputs": [],
   "source": [
    "def process_docs(docs):\n",
    "    stop_words = set(stopwords.words('english'))\n",
    "    words = word_tokenize(docs)\n",
    "    word_filtered = [w for w in words if not w in stop_words]\n",
    "    return ' '.join(word_filtered)\n"
   ]
  },
  {
   "cell_type": "code",
   "execution_count": null,
   "id": "dca68966",
   "metadata": {},
   "outputs": [
    {
     "data": {
      "text/html": [
       "<div>\n",
       "<style scoped>\n",
       "    .dataframe tbody tr th:only-of-type {\n",
       "        vertical-align: middle;\n",
       "    }\n",
       "\n",
       "    .dataframe tbody tr th {\n",
       "        vertical-align: top;\n",
       "    }\n",
       "\n",
       "    .dataframe thead th {\n",
       "        text-align: right;\n",
       "    }\n",
       "</style>\n",
       "<table border=\"1\" class=\"dataframe\">\n",
       "  <thead>\n",
       "    <tr style=\"text-align: right;\">\n",
       "      <th></th>\n",
       "      <th>raw</th>\n",
       "      <th>processed</th>\n",
       "    </tr>\n",
       "  </thead>\n",
       "  <tbody>\n",
       "    <tr>\n",
       "      <th>0</th>\n",
       "      <td>\\n\\nI am sure some bashers of Pens fans are pr...</td>\n",
       "      <td>I sure bashers Pens fans pretty confused lack ...</td>\n",
       "    </tr>\n",
       "    <tr>\n",
       "      <th>1</th>\n",
       "      <td>My brother is in the market for a high-perform...</td>\n",
       "      <td>My brother market high-performance video card ...</td>\n",
       "    </tr>\n",
       "    <tr>\n",
       "      <th>2</th>\n",
       "      <td>\\n\\n\\n\\n\\tFinally you said what you dream abou...</td>\n",
       "      <td>Finally said dream . Mediterranean ? ? ? ? Tha...</td>\n",
       "    </tr>\n",
       "    <tr>\n",
       "      <th>3</th>\n",
       "      <td>\\nThink!\\n\\nIt's the SCSI card doing the DMA t...</td>\n",
       "      <td>Think ! It 's SCSI card DMA transfers NOT disk...</td>\n",
       "    </tr>\n",
       "    <tr>\n",
       "      <th>4</th>\n",
       "      <td>1)    I have an old Jasmine drive which I cann...</td>\n",
       "      <td>1 ) I old Jasmine drive I use new system . My ...</td>\n",
       "    </tr>\n",
       "    <tr>\n",
       "      <th>...</th>\n",
       "      <td>...</td>\n",
       "      <td>...</td>\n",
       "    </tr>\n",
       "    <tr>\n",
       "      <th>18841</th>\n",
       "      <td>DN&gt; From: nyeda@cnsvax.uwec.edu (David Nye)\\nD...</td>\n",
       "      <td>DN &gt; From : nyeda @ cnsvax.uwec.edu ( David Ny...</td>\n",
       "    </tr>\n",
       "    <tr>\n",
       "      <th>18842</th>\n",
       "      <td>\\nNot in isolated ground recepticles (usually ...</td>\n",
       "      <td>Not isolated ground recepticles ( usually unus...</td>\n",
       "    </tr>\n",
       "    <tr>\n",
       "      <th>18843</th>\n",
       "      <td>I just installed a DX2-66 CPU in a clone mothe...</td>\n",
       "      <td>I installed DX2-66 CPU clone motherboard , tri...</td>\n",
       "    </tr>\n",
       "    <tr>\n",
       "      <th>18844</th>\n",
       "      <td>\\nWouldn't this require a hyper-sphere.  In 3-...</td>\n",
       "      <td>Would n't require hyper-sphere . In 3-space , ...</td>\n",
       "    </tr>\n",
       "    <tr>\n",
       "      <th>18845</th>\n",
       "      <td>After a tip from Gary Crum (crum@fcom.cc.utah....</td>\n",
       "      <td>After tip Gary Crum ( crum @ fcom.cc.utah.edu ...</td>\n",
       "    </tr>\n",
       "  </tbody>\n",
       "</table>\n",
       "<p>18846 rows × 2 columns</p>\n",
       "</div>"
      ],
      "text/plain": [
       "                                                     raw  \\\n",
       "0      \\n\\nI am sure some bashers of Pens fans are pr...   \n",
       "1      My brother is in the market for a high-perform...   \n",
       "2      \\n\\n\\n\\n\\tFinally you said what you dream abou...   \n",
       "3      \\nThink!\\n\\nIt's the SCSI card doing the DMA t...   \n",
       "4      1)    I have an old Jasmine drive which I cann...   \n",
       "...                                                  ...   \n",
       "18841  DN> From: nyeda@cnsvax.uwec.edu (David Nye)\\nD...   \n",
       "18842  \\nNot in isolated ground recepticles (usually ...   \n",
       "18843  I just installed a DX2-66 CPU in a clone mothe...   \n",
       "18844  \\nWouldn't this require a hyper-sphere.  In 3-...   \n",
       "18845  After a tip from Gary Crum (crum@fcom.cc.utah....   \n",
       "\n",
       "                                               processed  \n",
       "0      I sure bashers Pens fans pretty confused lack ...  \n",
       "1      My brother market high-performance video card ...  \n",
       "2      Finally said dream . Mediterranean ? ? ? ? Tha...  \n",
       "3      Think ! It 's SCSI card DMA transfers NOT disk...  \n",
       "4      1 ) I old Jasmine drive I use new system . My ...  \n",
       "...                                                  ...  \n",
       "18841  DN > From : nyeda @ cnsvax.uwec.edu ( David Ny...  \n",
       "18842  Not isolated ground recepticles ( usually unus...  \n",
       "18843  I installed DX2-66 CPU clone motherboard , tri...  \n",
       "18844  Would n't require hyper-sphere . In 3-space , ...  \n",
       "18845  After tip Gary Crum ( crum @ fcom.cc.utah.edu ...  \n",
       "\n",
       "[18846 rows x 2 columns]"
      ]
     },
     "execution_count": 34,
     "metadata": {},
     "output_type": "execute_result"
    }
   ],
   "source": [
    "newgroupsdocs_df['processed'] = newgroupsdocs_df['raw'].apply(process_docs)\n",
    "newgroupsdocs_df"
   ]
  },
  {
   "cell_type": "code",
   "execution_count": null,
   "id": "80dbc5de",
   "metadata": {},
   "outputs": [],
   "source": [
    "import "
   ]
  },
  {
   "cell_type": "code",
   "execution_count": null,
   "id": "9e335ba44c18af98",
   "metadata": {
    "ExecuteTime": {
     "end_time": "2025-06-25T13:24:10.784983Z",
     "start_time": "2025-06-25T13:24:10.675527Z"
    }
   },
   "outputs": [
    {
     "name": "stdout",
     "output_type": "stream",
     "text": [
      "Documentos: [0.2 0.1 0.5] [-0.1  0.4  0.3]\n",
      "Consulta: [0.1 0.3 0.4]\n"
     ]
    }
   ],
   "source": [
    "import numpy as np\n",
    "\n",
    "# Simulamos 3 documentos como vectores en R^3\n",
    "doc1 = np.array([0.2, 0.1, 0.5])\n",
    "doc2 = np.array([-0.1, 0.4, 0.3])\n",
    "query = np.array([0.1, 0.3, 0.4])\n",
    "\n",
    "print(\"Documentos:\", doc1, doc2)\n",
    "print(\"Consulta:\", query)"
   ]
  },
  {
   "cell_type": "markdown",
   "id": "84f29c9d35285942",
   "metadata": {},
   "source": [
    "## 2. Medidas de Similitud\n",
    "\n",
    "El principio básico de una base vectorial es buscar elementos cuyo vector esté \"cerca\" del vector de consulta. Existen varias formas de medir esta cercanía:\n",
    "\n",
    "### a. Distancia Euclidiana (L2)\n",
    "\n",
    "$\\[ \\text{dist}(⇡\\vec{q}, \\vec{d}) = \\sqrt{\\sum_{i=1}^n (q_i - d_i)^2} \\]$\n",
    "\n",
    "Utilizada cuando los vectores no están normalizados. Implementada por defecto en `FAISS` con `IndexFlatL2`.\n",
    "\n",
    "### b. Similitud Coseno\n",
    "\n",
    "$\\[ \\cos(\\theta) = \\frac{\\vec{q} \\cdot \\vec{d}}{\\|\\vec{q}\\| \\cdot \\|\\vec{d}\\|} \\]$\n",
    "\n",
    "Esta métrica es ideal cuando se desea medir ángulos (dirección) en lugar de magnitudes. Se usa en `ChromaDB` y también puede simularse en FAISS si los vectores están normalizados.\n",
    "\n",
    "Existe una relación entre ambas (cuando los vectores están normalizados):\n",
    "$\\[ \\text{dist}_{\\text{L2}}^2 = 2 - 2 \\cdot \\cos(\\theta) \\]$"
   ]
  },
  {
   "cell_type": "code",
   "execution_count": null,
   "id": "acdc0580901174e2",
   "metadata": {
    "ExecuteTime": {
     "end_time": "2025-06-25T13:24:16.437219Z",
     "start_time": "2025-06-25T13:24:16.424202Z"
    }
   },
   "outputs": [
    {
     "name": "stdout",
     "output_type": "stream",
     "text": [
      "Distancia Euclidiana a doc1: 0.2449489742783178\n",
      "Distancia Euclidiana a doc2: 0.24494897427831785\n",
      "Similitud coseno con doc1: 0.8951435925492911\n",
      "Similitud coseno con doc2: 0.8846153846153845\n"
     ]
    }
   ],
   "source": [
    "from numpy.linalg import norm\n",
    "\n",
    "dist1 = norm(query - doc1)\n",
    "dist2 = norm(query - doc2)\n",
    "\n",
    "print(\"Distancia Euclidiana a doc1:\", dist1)\n",
    "print(\"Distancia Euclidiana a doc2:\", dist2)\n",
    "\n",
    "def cosine_similarity(a, b):\n",
    "    return np.dot(a, b) / (norm(a) * norm(b))\n",
    "\n",
    "sim1 = cosine_similarity(query, doc1)\n",
    "sim2 = cosine_similarity(query, doc2)\n",
    "\n",
    "print(\"Similitud coseno con doc1:\", sim1)\n",
    "print(\"Similitud coseno con doc2:\", sim2)"
   ]
  },
  {
   "cell_type": "markdown",
   "id": "1d52d25bf0be142",
   "metadata": {},
   "source": [
    "## 3. Normalización de Vectores\n",
    "\n",
    "Muchos sistemas normalizan los vectores para que su norma sea 1:\n",
    "\n",
    "$\\[ \\hat{\\vec{v}} = \\frac{\\vec{v}}{\\|\\vec{v}\\|} \\]$\n",
    "\n",
    "Esto transforma la distancia Euclidiana en una función directa de la similitud coseno, facilitando búsquedas eficientes y comparables."
   ]
  },
  {
   "cell_type": "code",
   "execution_count": null,
   "id": "bc8af7ab6b021307",
   "metadata": {
    "ExecuteTime": {
     "end_time": "2025-06-25T13:24:23.682148Z",
     "start_time": "2025-06-25T13:24:23.662256Z"
    }
   },
   "outputs": [
    {
     "name": "stdout",
     "output_type": "stream",
     "text": [
      "Vector normalizado q: [0.19611614 0.58834841 0.78446454]\n",
      "Similitud coseno post-normalización (dot): 0.8951435925492911 0.8846153846153845\n",
      "2 - 2cos(theta): 0.2097128149014178\n",
      "Distancia euclidiana al cuadrado: 0.2097128149014178\n"
     ]
    }
   ],
   "source": [
    "def normalize(v):\n",
    "    return v / norm(v)\n",
    "\n",
    "q_norm = normalize(query)\n",
    "d1_norm = normalize(doc1)\n",
    "d2_norm = normalize(doc2)\n",
    "\n",
    "print(\"Vector normalizado q:\", q_norm)\n",
    "print(\"Similitud coseno post-normalización (dot):\", np.dot(q_norm, d1_norm), np.dot(q_norm, d2_norm))\n",
    "\n",
    "# Relación teórica: dist² = 2 - 2cos(θ)\n",
    "dot = np.dot(q_norm, d1_norm)\n",
    "euclidean_sq = norm(q_norm - d1_norm)**2\n",
    "print(\"2 - 2cos(theta):\", 2 - 2 * dot)\n",
    "print(\"Distancia euclidiana al cuadrado:\", euclidean_sq)"
   ]
  },
  {
   "cell_type": "markdown",
   "id": "ed5b08d9bbda13ed",
   "metadata": {},
   "source": [
    "## 4. Indexación y Aceleración\n",
    "\n",
    "Buscar en millones de vectores directamente es costoso $(\\( O(n \\cdot d) \\))$. Se usan estructuras aproximadas para acelerar:\n",
    "\n",
    "### a. IVF (Inverted File Index)\n",
    "- Aplica clustering (K-means) a los vectores.\n",
    "- Durante la búsqueda, se consulta solo un subconjunto de clústeres.\n",
    "\n",
    "### b. HNSW (Hierarchical Navigable Small World)\n",
    "- Construye un grafo jerárquico de vecinos más cercanos.\n",
    "- Permite búsquedas logarítmicas eficientes."
   ]
  },
  {
   "cell_type": "code",
   "execution_count": null,
   "id": "b6f06db7b3e286e2",
   "metadata": {},
   "outputs": [],
   "source": []
  }
 ],
 "metadata": {
  "kernelspec": {
   "display_name": ".venv311",
   "language": "python",
   "name": "python3"
  },
  "language_info": {
   "codemirror_mode": {
    "name": "ipython",
    "version": 3
   },
   "file_extension": ".py",
   "mimetype": "text/x-python",
   "name": "python",
   "nbconvert_exporter": "python",
   "pygments_lexer": "ipython3",
   "version": "3.11.9"
  }
 },
 "nbformat": 4,
 "nbformat_minor": 5
}
