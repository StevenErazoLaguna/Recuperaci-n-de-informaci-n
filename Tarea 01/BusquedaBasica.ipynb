{
 "cells": [
  {
   "cell_type": "markdown",
   "id": "50fe7b66",
   "metadata": {},
   "source": [
    "Ejercicio 1: Introducción a Recuperación de Información\n",
    "\n",
    "Objetivo de la práctica\n",
    "Entender el problema de buscar información en colecciones de texto.\n",
    "Comprender por qué se necesita un índice invertido en recuperación de información.\n",
    "Programar una primera solución manual y luego optimizarla con un índice.\n",
    "Evaluar la mejora en tiempos de búsqueda cuando usamos estructuras adecuadas.\n",
    "\n",
    "\n",
    "Parte 1: Búsqueda lineal en documentos\n",
    "Actividad\n",
    "Se te proporcionará un conjunto de documentos de texto.\n",
    "Escribe una función que:\n",
    "Lea todos los documentos.\n",
    "Busque una palabra ingresada por el usuario.\n",
    "Muestre en qué documentos aparece la palabra."
   ]
  },
  {
   "cell_type": "code",
   "execution_count": 10,
   "id": "e76c6b6c",
   "metadata": {},
   "outputs": [
    {
     "name": "stdout",
     "output_type": "stream",
     "text": [
      "Indice 4\n",
      "Indice 16\n",
      "Indice 17\n",
      "Indice 39\n",
      "Indice 43\n",
      "Indice 73\n",
      "Indice 75\n",
      "Indice 89\n",
      "Indice 104\n",
      "Indice 136\n",
      "Indice 201\n",
      "Indice 213\n",
      "Indice 238\n",
      "Indice 260\n",
      "Indice 291\n",
      "Indice 325\n",
      "Indice 355\n",
      "Indice 391\n",
      "Indice 469\n",
      "Indice 487\n"
     ]
    }
   ],
   "source": [
    "def buscar_en_documentos(corpus, query):\n",
    "    with open(corpus, 'r') as archivo:\n",
    "        for numero_linea, linea in enumerate(archivo, start=1):\n",
    "            if query in linea:\n",
    "                print(f\"Indice {numero_linea}\")\n",
    "\n",
    "corpus = r'D:\\Universidad\\8 - Octavo\\Recuperacion de la informacion\\Tareas\\Tarea 01\\01_corpus_turismo_500.txt'\n",
    "query = 'Quito'\n",
    "buscar_en_documentos(corpus, query)\n"
   ]
  },
  {
   "cell_type": "markdown",
   "id": "7d564a1c",
   "metadata": {},
   "source": [
    "Parte 2: Construcción de un índice invertido\n",
    "Actividad\n",
    "Escribe un programa que:\n",
    "\n",
    "Recorra todos los documentos.\n",
    "Construya un índice invertido, es decir, un diccionario donde:\n",
    "Cada palabra clave apunta a una lista de documentos donde aparece.\n",
    "Escribe una nueva función de búsqueda que:\n",
    "\n",
    "Consulte directamente el índice para encontrar los documentos relevantes.\n",
    "Sea mucho más rápida que la búsqueda lineal."
   ]
  },
  {
   "cell_type": "code",
   "execution_count": 14,
   "id": "8456ef05",
   "metadata": {},
   "outputs": [
    {
     "name": "stdout",
     "output_type": "stream",
     "text": [
      "La palabra 'ecuador' aparece en los documentos: [5, 22, 30, 37, 41, 45, 76, 109, 110, 122, 127, 130, 156, 163, 168, 200, 225, 231, 246, 254, 258, 280, 307, 319, 324, 333, 352, 371, 379, 383, 386, 442, 459, 486, 491, 492]\n"
     ]
    }
   ],
   "source": [
    "def construir_indice_invertido(corpus):\n",
    "    indice_invertido = {}\n",
    "    with open(corpus, 'r', encoding='utf-8') as archivo:\n",
    "        for numero_linea, linea in enumerate(archivo, start=1):\n",
    "            palabras = linea.strip().split()\n",
    "            for palabra in palabras:\n",
    "                palabra = palabra.lower()\n",
    "                if palabra not in indice_invertido:\n",
    "                    indice_invertido[palabra] = []\n",
    "                indice_invertido[palabra].append(numero_linea)\n",
    "    return indice_invertido\n",
    "\n",
    "\n",
    "def buscar_en_indice(indice_invertido, query):\n",
    "    query = query.lower()\n",
    "    if query in indice_invertido:\n",
    "        print(f\"La palabra '{query}' aparece en los documentos: {indice_invertido[query]}\")\n",
    "\n",
    "\n",
    "corpus = r'D:\\Universidad\\8 - Octavo\\Recuperacion de la informacion\\Tareas\\Tarea 01\\01_corpus_turismo_500.txt'\n",
    "indice_invertido = construir_indice_invertido(corpus)\n",
    "query = \"Ecuador\"\n",
    "buscar_en_indice(indice_invertido, query)\n"
   ]
  },
  {
   "cell_type": "markdown",
   "id": "6935718c",
   "metadata": {},
   "source": [
    "Parte 3: Evaluación de tiempos de búsqueda\n",
    "Actividad\n",
    "Realiza la búsqueda de varias palabras usando:\n",
    "Corpus pequeño: 16 documentos (turismo en Ecuador).\n",
    "Corpus grande: 500 documentos (versión ampliada).\n",
    "Mide el tiempo de ejecución:\n",
    "Para búsqueda lineal.\n",
    "Para búsqueda usando índice invertido.\n",
    "Grafica o presenta los resultados en una tabla comparativa."
   ]
  },
  {
   "cell_type": "code",
   "execution_count": 19,
   "id": "655f0166",
   "metadata": {},
   "outputs": [
    {
     "name": "stdout",
     "output_type": "stream",
     "text": [
      "Quito - Búsqueda lineal: 0.002044 segundos | Búsqueda con índice invertido: 0.000000 segundos\n",
      "Montañita - Búsqueda lineal: 0.001013 segundos | Búsqueda con índice invertido: 0.000000 segundos\n",
      "Feriado - Búsqueda lineal: 0.000997 segundos | Búsqueda con índice invertido: 0.000000 segundos\n",
      "Playas - Búsqueda lineal: 0.001000 segundos | Búsqueda con índice invertido: 0.000000 segundos\n",
      "Aventura - Búsqueda lineal: 0.000999 segundos | Búsqueda con índice invertido: 0.000000 segundos\n",
      "Galápagos - Búsqueda lineal: 0.001002 segundos | Búsqueda con índice invertido: 0.000000 segundos\n"
     ]
    }
   ],
   "source": [
    "import time\n",
    "import matplotlib.pyplot as plt\n",
    "\n",
    "# Funcion parte 1\n",
    "def buscar_lineal(corpus, query):\n",
    "    resultados = []\n",
    "    with open(corpus, 'r', encoding='utf-8') as archivo:\n",
    "        for numero_linea, linea in enumerate(archivo, start=1):\n",
    "            if query.lower() in linea.lower():\n",
    "                resultados.append(numero_linea)\n",
    "    return resultados\n",
    "\n",
    "#Funcion parte 2\n",
    "def construir_indice_invertido(corpus):\n",
    "    indice_invertido = {}\n",
    "    with open(corpus, 'r', encoding='utf-8') as archivo:\n",
    "        for numero_linea, linea in enumerate(archivo, start=1):\n",
    "            palabras = linea.strip().split()\n",
    "            for palabra in palabras:\n",
    "                palabra = palabra.lower()\n",
    "                if palabra not in indice_invertido:\n",
    "                    indice_invertido[palabra] = []\n",
    "                indice_invertido[palabra].append(numero_linea)\n",
    "    return indice_invertido\n",
    "\n",
    "\n",
    "def buscar_en_indice(indice_invertido, query):\n",
    "    query = query.lower()\n",
    "    if query in indice_invertido:\n",
    "        return indice_invertido[query]\n",
    "    return []\n",
    "\n",
    "# Función para medir el tiempo de búsqueda\n",
    "def medir_tiempos(corpus, palabras, indice_invertido):\n",
    "    tiempos_lineales = []\n",
    "    tiempos_indice = []\n",
    "\n",
    "    #Tiempo funcion parte 1\n",
    "    for palabra in palabras:\n",
    "        start_time = time.time()\n",
    "        buscar_lineal(corpus, palabra)\n",
    "        tiempos_lineales.append(time.time() - start_time)\n",
    "\n",
    "    #Tiempo funcion parte 2\n",
    "    for palabra in palabras:\n",
    "        start_time = time.time()\n",
    "        buscar_en_indice(indice_invertido, palabra)\n",
    "        tiempos_indice.append(time.time() - start_time)\n",
    "\n",
    "    return tiempos_lineales, tiempos_indice\n",
    "\n",
    "#Parte de probar querys\n",
    "corpus = r'D:\\Universidad\\8 - Octavo\\Recuperacion de la informacion\\Tareas\\Tarea 01\\01_corpus_turismo_500.txt'\n",
    "indice_invertido = construir_indice_invertido(corpus)\n",
    "\n",
    "palabras_a_buscar = [\"quito\", \"montañita\", \"feriado\", \"playas\", \"aventura\", \"galápagos\"]\n",
    "\n",
    "tiempos_lineales, tiempos_indice = medir_tiempos(corpus, palabras_a_buscar, indice_invertido)\n",
    "\n",
    "for palabra, tiempo_lineal, tiempo_indice in zip(palabras_a_buscar, tiempos_lineales, tiempos_indice):\n",
    "    print(f\"{palabra.capitalize()} - Búsqueda lineal: {tiempo_lineal:.6f} segundos | Búsqueda con índice invertido: {tiempo_indice:.6f} segundos\")\n"
   ]
  },
  {
   "cell_type": "markdown",
   "id": "fdb4a20b",
   "metadata": {},
   "source": [
    "Parte 4:\n",
    "Actividad\n",
    "Modifica el índice para que ignore mayúsculas/minúsculas (por ejemplo, \"Playa\" y \"playa\" deben considerarse iguales).\n",
    "Permite consultas de múltiples términos (ejemplo: buscar documentos que contengan \"playa\" y \"turismo\").\n",
    "Calcula el speedup"
   ]
  },
  {
   "cell_type": "code",
   "execution_count": 22,
   "id": "8c2fc6ec",
   "metadata": {},
   "outputs": [
    {
     "name": "stdout",
     "output_type": "stream",
     "text": [
      "Resultados de búsqueda: {4, 12, 16, 17, 20, 23, 24, 25, 28, 31, 36, 38, 39, 42, 43, 47, 51, 54, 62, 67, 69, 73, 75, 77, 79, 81, 83, 84, 85, 87, 88, 89, 90, 91, 94, 96, 97, 99, 100, 103, 104, 107, 120, 124, 125, 126, 128, 135, 136, 139, 146, 151, 164, 170, 173, 178, 185, 198, 201, 202, 205, 209, 211, 213, 219, 227, 229, 233, 235, 236, 238, 239, 243, 244, 249, 255, 260, 266, 268, 273, 276, 277, 278, 284, 288, 291, 295, 298, 299, 300, 304, 306, 308, 311, 312, 314, 316, 318, 321, 322, 323, 325, 327, 328, 330, 332, 337, 338, 339, 350, 355, 359, 370, 377, 381, 384, 387, 389, 390, 391, 392, 394, 396, 399, 403, 405, 406, 408, 409, 413, 417, 419, 422, 423, 430, 439, 443, 450, 451, 458, 461, 464, 466, 467, 469, 476, 478, 480, 481, 483, 484, 485, 487, 490, 493, 494, 498, 499, 500}\n",
      "Tiempo de construcción del índice: 0.002997 segundos\n",
      "Tiempo de búsqueda en índice invertido: 0.000000 segundos\n"
     ]
    }
   ],
   "source": [
    "import time\n",
    "\n",
    "def construir_indice_invertido(corpus):\n",
    "    indice_invertido = {}\n",
    "    with open(corpus, 'r', encoding='utf-8') as archivo:\n",
    "        for numero_linea, linea in enumerate(archivo, start=1):\n",
    "            palabras = linea.strip().lower().split()  # Convertir todo a minúscula\n",
    "            for palabra in palabras:\n",
    "                if palabra not in indice_invertido:\n",
    "                    indice_invertido[palabra] = []\n",
    "                indice_invertido[palabra].append(numero_linea)\n",
    "    return indice_invertido\n",
    "\n",
    "def buscar_en_indice(indice_invertido, queries):\n",
    "    resultados = set()\n",
    "    for query in queries:\n",
    "        query = query.lower()\n",
    "        if query in indice_invertido:\n",
    "            resultados.update(indice_invertido[query])\n",
    "    return resultados\n",
    "\n",
    "# Corpus y consultas\n",
    "corpus = r'D:\\Universidad\\8 - Octavo\\Recuperacion de la informacion\\Tareas\\Tarea 01\\01_corpus_turismo_500.txt'\n",
    "queries = ['quito', 'montañita', 'feriado', 'playas', 'aventura', 'galápagos']\n",
    "\n",
    "# Construir el índice invertido\n",
    "inicio_construccion = time.time()\n",
    "indice_invertido = construir_indice_invertido(corpus)\n",
    "fin_construccion = time.time()\n",
    "tiempo_construccion = fin_construccion - inicio_construccion\n",
    "\n",
    "# Buscar términos en el índice invertido\n",
    "inicio_busqueda = time.time()\n",
    "resultado_indice = buscar_en_indice(indice_invertido, queries)\n",
    "fin_busqueda = time.time()\n",
    "tiempo_busqueda = fin_busqueda - inicio_busqueda\n",
    "\n",
    "# Mostrar resultados\n",
    "print(f\"Resultados de búsqueda: {resultado_indice}\")\n",
    "print(f\"Tiempo de construcción del índice: {tiempo_construccion:.6f} segundos\")\n",
    "print(f\"Tiempo de búsqueda en índice invertido: {tiempo_busqueda:.6f} segundos\")\n"
   ]
  }
 ],
 "metadata": {
  "kernelspec": {
   "display_name": "Python 3",
   "language": "python",
   "name": "python3"
  },
  "language_info": {
   "codemirror_mode": {
    "name": "ipython",
    "version": 3
   },
   "file_extension": ".py",
   "mimetype": "text/x-python",
   "name": "python",
   "nbconvert_exporter": "python",
   "pygments_lexer": "ipython3",
   "version": "3.12.4"
  }
 },
 "nbformat": 4,
 "nbformat_minor": 5
}
