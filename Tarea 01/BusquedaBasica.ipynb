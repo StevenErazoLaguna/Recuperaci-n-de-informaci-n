{
 "cells": [
  {
   "cell_type": "markdown",
   "id": "50fe7b66",
   "metadata": {},
   "source": [
    "Ejercicio 1: Introducción a Recuperación de Información\n",
    "Objetivo de la práctica\n",
    "Entender el problema de buscar información en colecciones de texto.\n",
    "Comprender por qué se necesita un índice invertido en recuperación de información.\n",
    "Programar una primera solución manual y luego optimizarla con un índice.\n",
    "Evaluar la mejora en tiempos de búsqueda cuando usamos estructuras adecuadas.\n",
    "Parte 1: Búsqueda lineal en documentos\n",
    "Actividad\n",
    "Se te proporcionará un conjunto de documentos de texto.\n",
    "Escribe una función que:\n",
    "Lea todos los documentos.\n",
    "Busque una palabra ingresada por el usuario.\n",
    "Muestre en qué documentos aparece la palabra."
   ]
  },
  {
   "cell_type": "code",
   "execution_count": 4,
   "id": "e76c6b6c",
   "metadata": {},
   "outputs": [
    {
     "name": "stdout",
     "output_type": "stream",
     "text": [
      "Indice 4\n",
      "Indice 16\n",
      "Indice 17\n",
      "Indice 39\n",
      "Indice 43\n",
      "Indice 73\n",
      "Indice 75\n",
      "Indice 89\n",
      "Indice 104\n",
      "Indice 136\n",
      "Indice 201\n",
      "Indice 213\n",
      "Indice 238\n",
      "Indice 260\n",
      "Indice 291\n",
      "Indice 325\n",
      "Indice 355\n",
      "Indice 391\n",
      "Indice 469\n",
      "Indice 487\n"
     ]
    }
   ],
   "source": [
    "def buscar_en_documentos(corpus, query):\n",
    "    with open(corpus, 'r') as archivo:\n",
    "        for numero_linea, linea in enumerate(archivo, start=1):\n",
    "            dictionary = linea.strip().split()\n",
    "            if query in dictionary:\n",
    "                print(f\"Indice {numero_linea}\")\n",
    "\n",
    "corpus = r'D:\\Universidad\\8 - Octavo\\Recuperacion de la informacion\\Tareas\\Tarea 01\\01_corpus_turismo_500.txt'\n",
    "query = 'Quito'\n",
    "buscar_en_documentos(corpus, query)\n"
   ]
  },
  {
   "cell_type": "markdown",
   "id": "7d564a1c",
   "metadata": {},
   "source": [
    "Parte 2: Construcción de un índice invertido\n",
    "Actividad\n",
    "Escribe un programa que:\n",
    "\n",
    "Recorra todos los documentos.\n",
    "Construya un índice invertido, es decir, un diccionario donde:\n",
    "Cada palabra clave apunta a una lista de documentos donde aparece.\n",
    "Escribe una nueva función de búsqueda que:\n",
    "\n",
    "Consulte directamente el índice para encontrar los documentos relevantes.\n",
    "Sea mucho más rápida que la búsqueda lineal."
   ]
  },
  {
   "cell_type": "code",
   "execution_count": 5,
   "id": "8456ef05",
   "metadata": {},
   "outputs": [
    {
     "name": "stdout",
     "output_type": "stream",
     "text": [
      "Indice 5\n",
      "Indice 22\n",
      "Indice 30\n",
      "Indice 37\n",
      "Indice 41\n",
      "Indice 45\n",
      "Indice 76\n",
      "Indice 109\n",
      "Indice 110\n",
      "Indice 122\n",
      "Indice 127\n",
      "Indice 130\n",
      "Indice 156\n",
      "Indice 163\n",
      "Indice 168\n",
      "Indice 200\n",
      "Indice 225\n",
      "Indice 231\n",
      "Indice 246\n",
      "Indice 254\n",
      "Indice 258\n",
      "Indice 280\n",
      "Indice 307\n",
      "Indice 319\n",
      "Indice 324\n",
      "Indice 333\n",
      "Indice 352\n",
      "Indice 371\n",
      "Indice 379\n",
      "Indice 383\n",
      "Indice 386\n",
      "Indice 442\n",
      "Indice 459\n",
      "Indice 486\n",
      "Indice 491\n",
      "Indice 492\n"
     ]
    }
   ],
   "source": [
    "def buscar_en_documentos(corpus, query):\n",
    "  with open('diccionario.txt', 'w') as archivo_salida:\n",
    "    with open(corpus, 'r') as archivo_entrada:\n",
    "        for numero_linea, linea in enumerate(archivo_entrada, start=1):\n",
    "            dictionary = linea.strip().split()\n",
    "            if query in dictionary:\n",
    "                print(f\"Indice {numero_linea}\")\n",
    "                archivo_salida.write(str(numero_linea) + '\\n')\n",
    "\n",
    "\n",
    "corpus = r'D:\\Universidad\\8 - Octavo\\Recuperacion de la informacion\\Tareas\\Tarea 01\\01_corpus_turismo_500.txt'\n",
    "query = 'Ecuador'\n",
    "buscar_en_documentos(corpus, query)"
   ]
  },
  {
   "cell_type": "markdown",
   "id": "6935718c",
   "metadata": {},
   "source": [
    "Parte 3: Evaluación de tiempos de búsqueda\n",
    "Actividad\n",
    "Realiza la búsqueda de varias palabras usando:\n",
    "Corpus pequeño: 16 documentos (turismo en Ecuador).\n",
    "Corpus grande: 500 documentos (versión ampliada).\n",
    "Mide el tiempo de ejecución:\n",
    "Para búsqueda lineal.\n",
    "Para búsqueda usando índice invertido.\n",
    "Grafica o presenta los resultados en una tabla comparativa."
   ]
  },
  {
   "cell_type": "code",
   "execution_count": null,
   "id": "655f0166",
   "metadata": {},
   "outputs": [],
   "source": []
  },
  {
   "cell_type": "markdown",
   "id": "fdb4a20b",
   "metadata": {},
   "source": [
    "Parte 4:\n",
    "Actividad\n",
    "Modifica el índice para que ignore mayúsculas/minúsculas (por ejemplo, \"Playa\" y \"playa\" deben considerarse iguales).\n",
    "Permite consultas de múltiples términos (ejemplo: buscar documentos que contengan \"playa\" y \"turismo\").\n",
    "Calcula el speedup"
   ]
  },
  {
   "cell_type": "code",
   "execution_count": null,
   "id": "8c2fc6ec",
   "metadata": {},
   "outputs": [],
   "source": []
  }
 ],
 "metadata": {
  "kernelspec": {
   "display_name": "Python 3",
   "language": "python",
   "name": "python3"
  },
  "language_info": {
   "codemirror_mode": {
    "name": "ipython",
    "version": 3
   },
   "file_extension": ".py",
   "mimetype": "text/x-python",
   "name": "python",
   "nbconvert_exporter": "python",
   "pygments_lexer": "ipython3",
   "version": "3.12.4"
  }
 },
 "nbformat": 4,
 "nbformat_minor": 5
}
