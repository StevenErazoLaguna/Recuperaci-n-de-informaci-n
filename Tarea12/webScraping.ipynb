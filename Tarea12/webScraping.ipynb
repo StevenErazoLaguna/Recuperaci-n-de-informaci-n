{
 "cells": [
  {
   "cell_type": "markdown",
   "id": "e2f884e7",
   "metadata": {},
   "source": [
    "### Parte 1: Entender el sitio web objetivo"
   ]
  },
  {
   "cell_type": "code",
   "execution_count": null,
   "id": "d7287713",
   "metadata": {},
   "outputs": [],
   "source": [
    "from bs4 import BeautifulSoup"
   ]
  },
  {
   "cell_type": "code",
   "execution_count": 25,
   "id": "5b57a184",
   "metadata": {},
   "outputs": [],
   "source": [
    "file = \"D:/Universidad/8 - Octavo/Recuperacion de la informacion/Tareas/Tarea12/rotisserie-chicken.html\""
   ]
  },
  {
   "cell_type": "code",
   "execution_count": 26,
   "id": "12d939be",
   "metadata": {},
   "outputs": [],
   "source": [
    "# Cargar el archivo HTML\n",
    "with open(file, \"r\", encoding=\"utf-8\") as html_file:\n",
    "\thtml_content = html_file.read()  # Leer el contenido del archivo\n",
    "\n",
    "soup = BeautifulSoup(html_content, \"html.parser\")"
   ]
  },
  {
   "cell_type": "code",
   "execution_count": 28,
   "id": "858e43c8",
   "metadata": {},
   "outputs": [
    {
     "name": "stdout",
     "output_type": "stream",
     "text": [
      "Titulo: Rotisserie Chicken\n"
     ]
    }
   ],
   "source": [
    "tittle =soup.find('meta',{\"property\":\"og:title\"})['content']\n",
    "print(f\"Titulo: {tittle}\")"
   ]
  },
  {
   "cell_type": "code",
   "execution_count": 27,
   "id": "2184aaed",
   "metadata": {},
   "outputs": [
    {
     "name": "stdout",
     "output_type": "stream",
     "text": [
      "1 (3 pound) whole chicken\n",
      "1 pinch salt\n",
      "¼ cup butter, melted\n",
      "1 tablespoon salt\n",
      "1 tablespoon ground paprika\n",
      "¼ tablespoon ground black pepper\n"
     ]
    }
   ],
   "source": [
    "ingredients_section = soup.find_all(\"li\", class_=\"mm-recipes-structured-ingredients__list-item\")\n",
    "for ingredient in ingredients_section:\n",
    "    print(ingredient.text.strip())"
   ]
  },
  {
   "cell_type": "code",
   "execution_count": 38,
   "id": "038643af",
   "metadata": {},
   "outputs": [
    {
     "name": "stdout",
     "output_type": "stream",
     "text": [
      "Prep Time:\n",
      "10 mins\n",
      "\n",
      "\n",
      "Cook Time:\n",
      " 1 hr 10 mins\n",
      "\n",
      "\n",
      "Additional Time:\n",
      "10 mins\n",
      "\n",
      "\n",
      "Total Time:\n",
      " 1 hr 30 mins\n",
      "\n",
      "\n",
      "Servings:\n",
      "6\n"
     ]
    }
   ],
   "source": [
    "# Coccion details\n",
    "details_value = soup.find(\"div\", class_=\"mm-recipes-details__content\")\n",
    "\n",
    "print(details_value.text.strip())\n",
    "\n"
   ]
  },
  {
   "cell_type": "code",
   "execution_count": 40,
   "id": "37a7e8b0",
   "metadata": {},
   "outputs": [
    {
     "name": "stdout",
     "output_type": "stream",
     "text": [
      "Intimidated by the idea of making a rotisserie chicken at home? We're here to help. Get your grill and rotisserie attachment ready — you'll want to try this recipe ASAP.\n"
     ]
    }
   ],
   "source": [
    "# Buscar el párrafo con la clase específica\n",
    "instruction = soup.find(\"p\", class_=\"comp mntl-sc-block mntl-sc-block-html\")\n",
    "\n",
    "# Extraer y mostrar el texto si se encuentra\n",
    "if instruction:\n",
    "    print(instruction.text.strip())"
   ]
  }
 ],
 "metadata": {
  "kernelspec": {
   "display_name": "Python 3",
   "language": "python",
   "name": "python3"
  },
  "language_info": {
   "codemirror_mode": {
    "name": "ipython",
    "version": 3
   },
   "file_extension": ".py",
   "mimetype": "text/x-python",
   "name": "python",
   "nbconvert_exporter": "python",
   "pygments_lexer": "ipython3",
   "version": "3.11.9"
  }
 },
 "nbformat": 4,
 "nbformat_minor": 5
}
