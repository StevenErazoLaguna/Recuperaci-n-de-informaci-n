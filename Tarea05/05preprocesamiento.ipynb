{
 "cells": [
  {
   "cell_type": "markdown",
   "id": "33e92cd0550dcfd1",
   "metadata": {},
   "source": [
    "# Ejercicio 5: Modelo Probabilístico\n",
    "\n",
    "## Objetivo de la práctica\n",
    "- Aplicar paso a paso técnicas de preprocesamiento, evaluando el impacto de cada etapa en el número de tokens y en el vocabulario final."
   ]
  },
  {
   "cell_type": "markdown",
   "id": "88982921c8872f8f",
   "metadata": {},
   "source": [
    "## Parte 0: Carga del Corpus"
   ]
  },
  {
   "cell_type": "code",
   "execution_count": 1,
   "id": "initial_id",
   "metadata": {
    "ExecuteTime": {
     "end_time": "2025-05-28T15:51:10.347651Z",
     "start_time": "2025-05-28T15:51:07.548869Z"
    },
    "collapsed": true
   },
   "outputs": [],
   "source": [
    "from sklearn.datasets import fetch_20newsgroups\n",
    "\n",
    "newsgroups = fetch_20newsgroups(subset='all', remove=('headers', 'footers', 'quotes'))\n",
    "newsgroupsdocs = newsgroups.data"
   ]
  },
  {
   "cell_type": "markdown",
   "id": "c6196ea9cb414396",
   "metadata": {},
   "source": [
    "## Parte 1: Tokenización\n",
    "\n",
    "### Actividad \n",
    "1. Tokeniza los documentos."
   ]
  },
  {
   "cell_type": "code",
   "execution_count": 2,
   "id": "cfb0f2438c9c0144",
   "metadata": {},
   "outputs": [
    {
     "name": "stdout",
     "output_type": "stream",
     "text": [
      "Documento sin tokenizar: [\"\\n\\nI am sure some bashers of Pens fans are pretty confused about the lack\\nof any kind of posts about the recent Pens massacre of the Devils. Actually,\\nI am  bit puzzled too and a bit relieved. However, I am going to put an end\\nto non-PIttsburghers' relief with a bit of praise for the Pens. Man, they\\nare killing those Devils worse than I thought. Jagr just showed you why\\nhe is much better than his regular season stats. He is also a lot\\nfo fun to watch in the playoffs. Bowman should let JAgr have a lot of\\nfun in the next couple of games since the Pens are going to beat the pulp out of Jersey anyway. I was very disappointed not to see the Islanders lose the final\\nregular season game.          PENS RULE!!!\\n\\n\", 'My brother is in the market for a high-performance video card that supports\\nVESA local bus with 1-2MB RAM.  Does anyone have suggestions/ideas on:\\n\\n  - Diamond Stealth Pro Local Bus\\n\\n  - Orchid Farenheit 1280\\n\\n  - ATI Graphics Ultra Pro\\n\\n  - Any other high-performance VLB card\\n\\n\\nPlease post or email.  Thank you!\\n\\n  - Matt\\n', '\\n\\n\\n\\n\\tFinally you said what you dream about. Mediterranean???? That was new....\\n\\tThe area will be \"greater\" after some years, like your \"holocaust\" numbers......\\n\\n\\n\\n\\n\\t\\t*****\\n\\tIs\\'t July in USA now????? Here in Sweden it\\'s April and still cold.\\n\\tOr have you changed your calendar???\\n\\n\\n\\t\\t\\t\\t\\t\\t    ****************\\n\\t\\t\\t\\t\\t\\t    ******************\\n\\t\\t\\t    ***************\\n\\n\\n\\tNOTHING OF THE MENTIONED IS TRUE, BUT LET SAY IT\\'s TRUE.\\n\\t\\n\\tSHALL THE AZERI WOMEN AND CHILDREN GOING TO PAY THE PRICE WITH\\n\\t\\t\\t\\t\\t\\t    **************\\n\\tBEING RAPED, KILLED AND TORTURED BY THE ARMENIANS??????????\\n\\t\\n\\tHAVE YOU HEARDED SOMETHING CALLED: \"GENEVA CONVENTION\"???????\\n\\tYOU FACIST!!!!!\\n\\n\\n\\n\\tOhhh i forgot, this is how Armenians fight, nobody has forgot\\n\\tyou killings, rapings and torture against the Kurds and Turks once\\n\\tupon a time!\\n      \\n       \\n\\n\\nOhhhh so swedish RedCross workers do lie they too? What ever you say\\n\"regional killer\", if you don\\'t like the person then shoot him that\\'s your policy.....l\\n\\n\\n\\t\\t\\t\\t\\t\\t\\t\\t\\t\\ti\\n\\t\\t\\t\\t\\t\\t\\t\\t\\t\\ti\\n\\t\\t\\t\\t\\t\\t\\t\\t\\t\\ti\\n\\tConfused?????\\t\\t\\t\\t\\t\\t\\t\\ti\\n\\t\\t\\t\\t\\t\\t\\t\\t\\t\\ti\\n        Search Turkish planes? You don\\'t know what you are talking about.\\ti\\n        Turkey\\'s government has announced that it\\'s giving weapons  <-----------i\\n        to Azerbadjan since Armenia started to attack Azerbadjan\\t\\t\\n        it self, not the Karabag province. So why search a plane for weapons\\t\\n        since it\\'s content is announced to be weapons?   \\n\\n\\tIf there is one that\\'s confused then that\\'s you! We have the right (and we do)\\n\\tto give weapons to the Azeris, since Armenians started the fight in Azerbadjan!\\n \\n\\n\\n\\tShoot down with what? Armenian bread and butter? Or the arms and personel \\n\\tof the Russian army?\\n\\n\\n', \"\\nThink!\\n\\nIt's the SCSI card doing the DMA transfers NOT the disks...\\n\\nThe SCSI card can do DMA transfers containing data from any of the SCSI devices\\nit is attached when it wants to.\\n\\nAn important feature of SCSI is the ability to detach a device. This frees the\\nSCSI bus for other devices. This is typically used in a multi-tasking OS to\\nstart transfers on several devices. While each device is seeking the data the\\nbus is free for other commands and data transfers. When the devices are\\nready to transfer the data they can aquire the bus and send the data.\\n\\nOn an IDE bus when you start a transfer the bus is busy until the disk has seeked\\nthe data and transfered it. This is typically a 10-20ms second lock out for other\\nprocesses wanting the bus irrespective of transfer time.\\n\", '1)    I have an old Jasmine drive which I cannot use with my new system.\\n My understanding is that I have to upsate the driver with a more modern\\none in order to gain compatability with system 7.0.1.  does anyone know\\nof an inexpensive program to do this?  ( I have seen formatters for <$20\\nbuit have no idea if they will work)\\n \\n2)     I have another ancient device, this one a tape drive for which\\nthe back utility freezes the system if I try to use it.  THe drive is a\\njasmine direct tape (bought used for $150 w/ 6 tapes, techmar\\nmechanism).  Essentially I have the same question as above, anyone know\\nof an inexpensive beckup utility I can use with system 7.0.1']\n",
      "Tokenized documents: [['I', 'am', 'sure', 'some', 'bashers', 'of', 'Pens', 'fans', 'are', 'pretty', 'confused', 'about', 'the', 'lack', 'of', 'any', 'kind', 'of', 'posts', 'about', 'the', 'recent', 'Pens', 'massacre', 'of', 'the', 'Devils.', 'Actually,', 'I', 'am', 'bit', 'puzzled', 'too', 'and', 'a', 'bit', 'relieved.', 'However,', 'I', 'am', 'going', 'to', 'put', 'an', 'end', 'to', \"non-PIttsburghers'\", 'relief', 'with', 'a', 'bit', 'of', 'praise', 'for', 'the', 'Pens.', 'Man,', 'they', 'are', 'killing', 'those', 'Devils', 'worse', 'than', 'I', 'thought.', 'Jagr', 'just', 'showed', 'you', 'why', 'he', 'is', 'much', 'better', 'than', 'his', 'regular', 'season', 'stats.', 'He', 'is', 'also', 'a', 'lot', 'fo', 'fun', 'to', 'watch', 'in', 'the', 'playoffs.', 'Bowman', 'should', 'let', 'JAgr', 'have', 'a', 'lot', 'of', 'fun', 'in', 'the', 'next', 'couple', 'of', 'games', 'since', 'the', 'Pens', 'are', 'going', 'to', 'beat', 'the', 'pulp', 'out', 'of', 'Jersey', 'anyway.', 'I', 'was', 'very', 'disappointed', 'not', 'to', 'see', 'the', 'Islanders', 'lose', 'the', 'final', 'regular', 'season', 'game.', 'PENS', 'RULE!!!'], ['My', 'brother', 'is', 'in', 'the', 'market', 'for', 'a', 'high-performance', 'video', 'card', 'that', 'supports', 'VESA', 'local', 'bus', 'with', '1-2MB', 'RAM.', 'Does', 'anyone', 'have', 'suggestions/ideas', 'on:', '-', 'Diamond', 'Stealth', 'Pro', 'Local', 'Bus', '-', 'Orchid', 'Farenheit', '1280', '-', 'ATI', 'Graphics', 'Ultra', 'Pro', '-', 'Any', 'other', 'high-performance', 'VLB', 'card', 'Please', 'post', 'or', 'email.', 'Thank', 'you!', '-', 'Matt'], ['Finally', 'you', 'said', 'what', 'you', 'dream', 'about.', 'Mediterranean????', 'That', 'was', 'new....', 'The', 'area', 'will', 'be', '\"greater\"', 'after', 'some', 'years,', 'like', 'your', '\"holocaust\"', 'numbers......', '*****', \"Is't\", 'July', 'in', 'USA', 'now?????', 'Here', 'in', 'Sweden', \"it's\", 'April', 'and', 'still', 'cold.', 'Or', 'have', 'you', 'changed', 'your', 'calendar???', '****************', '******************', '***************', 'NOTHING', 'OF', 'THE', 'MENTIONED', 'IS', 'TRUE,', 'BUT', 'LET', 'SAY', \"IT's\", 'TRUE.', 'SHALL', 'THE', 'AZERI', 'WOMEN', 'AND', 'CHILDREN', 'GOING', 'TO', 'PAY', 'THE', 'PRICE', 'WITH', '**************', 'BEING', 'RAPED,', 'KILLED', 'AND', 'TORTURED', 'BY', 'THE', 'ARMENIANS??????????', 'HAVE', 'YOU', 'HEARDED', 'SOMETHING', 'CALLED:', '\"GENEVA', 'CONVENTION\"???????', 'YOU', 'FACIST!!!!!', 'Ohhh', 'i', 'forgot,', 'this', 'is', 'how', 'Armenians', 'fight,', 'nobody', 'has', 'forgot', 'you', 'killings,', 'rapings', 'and', 'torture', 'against', 'the', 'Kurds', 'and', 'Turks', 'once', 'upon', 'a', 'time!', 'Ohhhh', 'so', 'swedish', 'RedCross', 'workers', 'do', 'lie', 'they', 'too?', 'What', 'ever', 'you', 'say', '\"regional', 'killer\",', 'if', 'you', \"don't\", 'like', 'the', 'person', 'then', 'shoot', 'him', \"that's\", 'your', 'policy.....l', 'i', 'i', 'i', 'Confused?????', 'i', 'i', 'Search', 'Turkish', 'planes?', 'You', \"don't\", 'know', 'what', 'you', 'are', 'talking', 'about.', 'i', \"Turkey's\", 'government', 'has', 'announced', 'that', \"it's\", 'giving', 'weapons', '<-----------i', 'to', 'Azerbadjan', 'since', 'Armenia', 'started', 'to', 'attack', 'Azerbadjan', 'it', 'self,', 'not', 'the', 'Karabag', 'province.', 'So', 'why', 'search', 'a', 'plane', 'for', 'weapons', 'since', \"it's\", 'content', 'is', 'announced', 'to', 'be', 'weapons?', 'If', 'there', 'is', 'one', \"that's\", 'confused', 'then', \"that's\", 'you!', 'We', 'have', 'the', 'right', '(and', 'we', 'do)', 'to', 'give', 'weapons', 'to', 'the', 'Azeris,', 'since', 'Armenians', 'started', 'the', 'fight', 'in', 'Azerbadjan!', 'Shoot', 'down', 'with', 'what?', 'Armenian', 'bread', 'and', 'butter?', 'Or', 'the', 'arms', 'and', 'personel', 'of', 'the', 'Russian', 'army?'], ['Think!', \"It's\", 'the', 'SCSI', 'card', 'doing', 'the', 'DMA', 'transfers', 'NOT', 'the', 'disks...', 'The', 'SCSI', 'card', 'can', 'do', 'DMA', 'transfers', 'containing', 'data', 'from', 'any', 'of', 'the', 'SCSI', 'devices', 'it', 'is', 'attached', 'when', 'it', 'wants', 'to.', 'An', 'important', 'feature', 'of', 'SCSI', 'is', 'the', 'ability', 'to', 'detach', 'a', 'device.', 'This', 'frees', 'the', 'SCSI', 'bus', 'for', 'other', 'devices.', 'This', 'is', 'typically', 'used', 'in', 'a', 'multi-tasking', 'OS', 'to', 'start', 'transfers', 'on', 'several', 'devices.', 'While', 'each', 'device', 'is', 'seeking', 'the', 'data', 'the', 'bus', 'is', 'free', 'for', 'other', 'commands', 'and', 'data', 'transfers.', 'When', 'the', 'devices', 'are', 'ready', 'to', 'transfer', 'the', 'data', 'they', 'can', 'aquire', 'the', 'bus', 'and', 'send', 'the', 'data.', 'On', 'an', 'IDE', 'bus', 'when', 'you', 'start', 'a', 'transfer', 'the', 'bus', 'is', 'busy', 'until', 'the', 'disk', 'has', 'seeked', 'the', 'data', 'and', 'transfered', 'it.', 'This', 'is', 'typically', 'a', '10-20ms', 'second', 'lock', 'out', 'for', 'other', 'processes', 'wanting', 'the', 'bus', 'irrespective', 'of', 'transfer', 'time.'], ['1)', 'I', 'have', 'an', 'old', 'Jasmine', 'drive', 'which', 'I', 'cannot', 'use', 'with', 'my', 'new', 'system.', 'My', 'understanding', 'is', 'that', 'I', 'have', 'to', 'upsate', 'the', 'driver', 'with', 'a', 'more', 'modern', 'one', 'in', 'order', 'to', 'gain', 'compatability', 'with', 'system', '7.0.1.', 'does', 'anyone', 'know', 'of', 'an', 'inexpensive', 'program', 'to', 'do', 'this?', '(', 'I', 'have', 'seen', 'formatters', 'for', '<$20', 'buit', 'have', 'no', 'idea', 'if', 'they', 'will', 'work)', '2)', 'I', 'have', 'another', 'ancient', 'device,', 'this', 'one', 'a', 'tape', 'drive', 'for', 'which', 'the', 'back', 'utility', 'freezes', 'the', 'system', 'if', 'I', 'try', 'to', 'use', 'it.', 'THe', 'drive', 'is', 'a', 'jasmine', 'direct', 'tape', '(bought', 'used', 'for', '$150', 'w/', '6', 'tapes,', 'techmar', 'mechanism).', 'Essentially', 'I', 'have', 'the', 'same', 'question', 'as', 'above,', 'anyone', 'know', 'of', 'an', 'inexpensive', 'beckup', 'utility', 'I', 'can', 'use', 'with', 'system', '7.0.1']]\n"
     ]
    }
   ],
   "source": [
    "#Tokenizar el documento\n",
    "def tokenize(doc):\n",
    "    return doc.split()\n",
    "tokenized_docs = [tokenize(doc) for doc in newsgroupsdocs]\n",
    "print(\"Documento sin tokenizar:\", newsgroupsdocs[:5])  # Print first document before tokenization\n",
    "print(\"Tokenized documents:\", tokenized_docs[:5])  # Print first 5 tokenized documents"
   ]
  },
  {
   "cell_type": "markdown",
   "id": "73ecfc1e6638e9d2",
   "metadata": {},
   "source": [
    "## Parte 2: Normalización\n",
    "\n",
    "### Actividad \n",
    "1. Convierte todos los tokens a minúsculas.\n",
    "2. Elimina puntuación y símbolos no alfabéticos."
   ]
  },
  {
   "cell_type": "code",
   "execution_count": 3,
   "id": "fc67a424c6550fa4",
   "metadata": {},
   "outputs": [
    {
     "name": "stdout",
     "output_type": "stream",
     "text": [
      "Lowercase documents: [['i', 'am', 'sure', 'some', 'bashers', 'of', 'pens', 'fans', 'are', 'pretty', 'confused', 'about', 'the', 'lack', 'of', 'any', 'kind', 'of', 'posts', 'about', 'the', 'recent', 'pens', 'massacre', 'of', 'the', 'devils.', 'actually,', 'i', 'am', 'bit', 'puzzled', 'too', 'and', 'a', 'bit', 'relieved.', 'however,', 'i', 'am', 'going', 'to', 'put', 'an', 'end', 'to', \"non-pittsburghers'\", 'relief', 'with', 'a', 'bit', 'of', 'praise', 'for', 'the', 'pens.', 'man,', 'they', 'are', 'killing', 'those', 'devils', 'worse', 'than', 'i', 'thought.', 'jagr', 'just', 'showed', 'you', 'why', 'he', 'is', 'much', 'better', 'than', 'his', 'regular', 'season', 'stats.', 'he', 'is', 'also', 'a', 'lot', 'fo', 'fun', 'to', 'watch', 'in', 'the', 'playoffs.', 'bowman', 'should', 'let', 'jagr', 'have', 'a', 'lot', 'of', 'fun', 'in', 'the', 'next', 'couple', 'of', 'games', 'since', 'the', 'pens', 'are', 'going', 'to', 'beat', 'the', 'pulp', 'out', 'of', 'jersey', 'anyway.', 'i', 'was', 'very', 'disappointed', 'not', 'to', 'see', 'the', 'islanders', 'lose', 'the', 'final', 'regular', 'season', 'game.', 'pens', 'rule!!!'], ['my', 'brother', 'is', 'in', 'the', 'market', 'for', 'a', 'high-performance', 'video', 'card', 'that', 'supports', 'vesa', 'local', 'bus', 'with', '1-2mb', 'ram.', 'does', 'anyone', 'have', 'suggestions/ideas', 'on:', '-', 'diamond', 'stealth', 'pro', 'local', 'bus', '-', 'orchid', 'farenheit', '1280', '-', 'ati', 'graphics', 'ultra', 'pro', '-', 'any', 'other', 'high-performance', 'vlb', 'card', 'please', 'post', 'or', 'email.', 'thank', 'you!', '-', 'matt'], ['finally', 'you', 'said', 'what', 'you', 'dream', 'about.', 'mediterranean????', 'that', 'was', 'new....', 'the', 'area', 'will', 'be', '\"greater\"', 'after', 'some', 'years,', 'like', 'your', '\"holocaust\"', 'numbers......', '*****', \"is't\", 'july', 'in', 'usa', 'now?????', 'here', 'in', 'sweden', \"it's\", 'april', 'and', 'still', 'cold.', 'or', 'have', 'you', 'changed', 'your', 'calendar???', '****************', '******************', '***************', 'nothing', 'of', 'the', 'mentioned', 'is', 'true,', 'but', 'let', 'say', \"it's\", 'true.', 'shall', 'the', 'azeri', 'women', 'and', 'children', 'going', 'to', 'pay', 'the', 'price', 'with', '**************', 'being', 'raped,', 'killed', 'and', 'tortured', 'by', 'the', 'armenians??????????', 'have', 'you', 'hearded', 'something', 'called:', '\"geneva', 'convention\"???????', 'you', 'facist!!!!!', 'ohhh', 'i', 'forgot,', 'this', 'is', 'how', 'armenians', 'fight,', 'nobody', 'has', 'forgot', 'you', 'killings,', 'rapings', 'and', 'torture', 'against', 'the', 'kurds', 'and', 'turks', 'once', 'upon', 'a', 'time!', 'ohhhh', 'so', 'swedish', 'redcross', 'workers', 'do', 'lie', 'they', 'too?', 'what', 'ever', 'you', 'say', '\"regional', 'killer\",', 'if', 'you', \"don't\", 'like', 'the', 'person', 'then', 'shoot', 'him', \"that's\", 'your', 'policy.....l', 'i', 'i', 'i', 'confused?????', 'i', 'i', 'search', 'turkish', 'planes?', 'you', \"don't\", 'know', 'what', 'you', 'are', 'talking', 'about.', 'i', \"turkey's\", 'government', 'has', 'announced', 'that', \"it's\", 'giving', 'weapons', '<-----------i', 'to', 'azerbadjan', 'since', 'armenia', 'started', 'to', 'attack', 'azerbadjan', 'it', 'self,', 'not', 'the', 'karabag', 'province.', 'so', 'why', 'search', 'a', 'plane', 'for', 'weapons', 'since', \"it's\", 'content', 'is', 'announced', 'to', 'be', 'weapons?', 'if', 'there', 'is', 'one', \"that's\", 'confused', 'then', \"that's\", 'you!', 'we', 'have', 'the', 'right', '(and', 'we', 'do)', 'to', 'give', 'weapons', 'to', 'the', 'azeris,', 'since', 'armenians', 'started', 'the', 'fight', 'in', 'azerbadjan!', 'shoot', 'down', 'with', 'what?', 'armenian', 'bread', 'and', 'butter?', 'or', 'the', 'arms', 'and', 'personel', 'of', 'the', 'russian', 'army?'], ['think!', \"it's\", 'the', 'scsi', 'card', 'doing', 'the', 'dma', 'transfers', 'not', 'the', 'disks...', 'the', 'scsi', 'card', 'can', 'do', 'dma', 'transfers', 'containing', 'data', 'from', 'any', 'of', 'the', 'scsi', 'devices', 'it', 'is', 'attached', 'when', 'it', 'wants', 'to.', 'an', 'important', 'feature', 'of', 'scsi', 'is', 'the', 'ability', 'to', 'detach', 'a', 'device.', 'this', 'frees', 'the', 'scsi', 'bus', 'for', 'other', 'devices.', 'this', 'is', 'typically', 'used', 'in', 'a', 'multi-tasking', 'os', 'to', 'start', 'transfers', 'on', 'several', 'devices.', 'while', 'each', 'device', 'is', 'seeking', 'the', 'data', 'the', 'bus', 'is', 'free', 'for', 'other', 'commands', 'and', 'data', 'transfers.', 'when', 'the', 'devices', 'are', 'ready', 'to', 'transfer', 'the', 'data', 'they', 'can', 'aquire', 'the', 'bus', 'and', 'send', 'the', 'data.', 'on', 'an', 'ide', 'bus', 'when', 'you', 'start', 'a', 'transfer', 'the', 'bus', 'is', 'busy', 'until', 'the', 'disk', 'has', 'seeked', 'the', 'data', 'and', 'transfered', 'it.', 'this', 'is', 'typically', 'a', '10-20ms', 'second', 'lock', 'out', 'for', 'other', 'processes', 'wanting', 'the', 'bus', 'irrespective', 'of', 'transfer', 'time.'], ['1)', 'i', 'have', 'an', 'old', 'jasmine', 'drive', 'which', 'i', 'cannot', 'use', 'with', 'my', 'new', 'system.', 'my', 'understanding', 'is', 'that', 'i', 'have', 'to', 'upsate', 'the', 'driver', 'with', 'a', 'more', 'modern', 'one', 'in', 'order', 'to', 'gain', 'compatability', 'with', 'system', '7.0.1.', 'does', 'anyone', 'know', 'of', 'an', 'inexpensive', 'program', 'to', 'do', 'this?', '(', 'i', 'have', 'seen', 'formatters', 'for', '<$20', 'buit', 'have', 'no', 'idea', 'if', 'they', 'will', 'work)', '2)', 'i', 'have', 'another', 'ancient', 'device,', 'this', 'one', 'a', 'tape', 'drive', 'for', 'which', 'the', 'back', 'utility', 'freezes', 'the', 'system', 'if', 'i', 'try', 'to', 'use', 'it.', 'the', 'drive', 'is', 'a', 'jasmine', 'direct', 'tape', '(bought', 'used', 'for', '$150', 'w/', '6', 'tapes,', 'techmar', 'mechanism).', 'essentially', 'i', 'have', 'the', 'same', 'question', 'as', 'above,', 'anyone', 'know', 'of', 'an', 'inexpensive', 'beckup', 'utility', 'i', 'can', 'use', 'with', 'system', '7.0.1']]\n"
     ]
    }
   ],
   "source": [
    "#Convertir a minúsculas\n",
    "def to_lowercase(doc):\n",
    "    return [word.lower() for word in doc]\n",
    "lowercase_docs = [to_lowercase(doc) for doc in tokenized_docs]\n",
    "print(\"Lowercase documents:\", lowercase_docs[:5])  # Print first 5 lowercase documents"
   ]
  },
  {
   "cell_type": "code",
   "execution_count": 4,
   "id": "075a68ea",
   "metadata": {},
   "outputs": [
    {
     "name": "stdout",
     "output_type": "stream",
     "text": [
      "Cleaned documents: [['i', 'am', 'sure', 'some', 'bashers', 'of', 'pens', 'fans', 'are', 'pretty', 'confused', 'about', 'the', 'lack', 'of', 'any', 'kind', 'of', 'posts', 'about', 'the', 'recent', 'pens', 'massacre', 'of', 'the', 'devils', 'actually', 'i', 'am', 'bit', 'puzzled', 'too', 'and', 'a', 'bit', 'relieved', 'however', 'i', 'am', 'going', 'to', 'put', 'an', 'end', 'to', 'nonpittsburghers', 'relief', 'with', 'a', 'bit', 'of', 'praise', 'for', 'the', 'pens', 'man', 'they', 'are', 'killing', 'those', 'devils', 'worse', 'than', 'i', 'thought', 'jagr', 'just', 'showed', 'you', 'why', 'he', 'is', 'much', 'better', 'than', 'his', 'regular', 'season', 'stats', 'he', 'is', 'also', 'a', 'lot', 'fo', 'fun', 'to', 'watch', 'in', 'the', 'playoffs', 'bowman', 'should', 'let', 'jagr', 'have', 'a', 'lot', 'of', 'fun', 'in', 'the', 'next', 'couple', 'of', 'games', 'since', 'the', 'pens', 'are', 'going', 'to', 'beat', 'the', 'pulp', 'out', 'of', 'jersey', 'anyway', 'i', 'was', 'very', 'disappointed', 'not', 'to', 'see', 'the', 'islanders', 'lose', 'the', 'final', 'regular', 'season', 'game', 'pens', 'rule'], ['my', 'brother', 'is', 'in', 'the', 'market', 'for', 'a', 'highperformance', 'video', 'card', 'that', 'supports', 'vesa', 'local', 'bus', 'with', 'mb', 'ram', 'does', 'anyone', 'have', 'suggestionsideas', 'on', 'diamond', 'stealth', 'pro', 'local', 'bus', 'orchid', 'farenheit', 'ati', 'graphics', 'ultra', 'pro', 'any', 'other', 'highperformance', 'vlb', 'card', 'please', 'post', 'or', 'email', 'thank', 'you', 'matt'], ['finally', 'you', 'said', 'what', 'you', 'dream', 'about', 'mediterranean', 'that', 'was', 'new', 'the', 'area', 'will', 'be', 'greater', 'after', 'some', 'years', 'like', 'your', 'holocaust', 'numbers', 'ist', 'july', 'in', 'usa', 'now', 'here', 'in', 'sweden', 'its', 'april', 'and', 'still', 'cold', 'or', 'have', 'you', 'changed', 'your', 'calendar', 'nothing', 'of', 'the', 'mentioned', 'is', 'true', 'but', 'let', 'say', 'its', 'true', 'shall', 'the', 'azeri', 'women', 'and', 'children', 'going', 'to', 'pay', 'the', 'price', 'with', 'being', 'raped', 'killed', 'and', 'tortured', 'by', 'the', 'armenians', 'have', 'you', 'hearded', 'something', 'called', 'geneva', 'convention', 'you', 'facist', 'ohhh', 'i', 'forgot', 'this', 'is', 'how', 'armenians', 'fight', 'nobody', 'has', 'forgot', 'you', 'killings', 'rapings', 'and', 'torture', 'against', 'the', 'kurds', 'and', 'turks', 'once', 'upon', 'a', 'time', 'ohhhh', 'so', 'swedish', 'redcross', 'workers', 'do', 'lie', 'they', 'too', 'what', 'ever', 'you', 'say', 'regional', 'killer', 'if', 'you', 'dont', 'like', 'the', 'person', 'then', 'shoot', 'him', 'thats', 'your', 'policyl', 'i', 'i', 'i', 'confused', 'i', 'i', 'search', 'turkish', 'planes', 'you', 'dont', 'know', 'what', 'you', 'are', 'talking', 'about', 'i', 'turkeys', 'government', 'has', 'announced', 'that', 'its', 'giving', 'weapons', 'i', 'to', 'azerbadjan', 'since', 'armenia', 'started', 'to', 'attack', 'azerbadjan', 'it', 'self', 'not', 'the', 'karabag', 'province', 'so', 'why', 'search', 'a', 'plane', 'for', 'weapons', 'since', 'its', 'content', 'is', 'announced', 'to', 'be', 'weapons', 'if', 'there', 'is', 'one', 'thats', 'confused', 'then', 'thats', 'you', 'we', 'have', 'the', 'right', 'and', 'we', 'do', 'to', 'give', 'weapons', 'to', 'the', 'azeris', 'since', 'armenians', 'started', 'the', 'fight', 'in', 'azerbadjan', 'shoot', 'down', 'with', 'what', 'armenian', 'bread', 'and', 'butter', 'or', 'the', 'arms', 'and', 'personel', 'of', 'the', 'russian', 'army'], ['think', 'its', 'the', 'scsi', 'card', 'doing', 'the', 'dma', 'transfers', 'not', 'the', 'disks', 'the', 'scsi', 'card', 'can', 'do', 'dma', 'transfers', 'containing', 'data', 'from', 'any', 'of', 'the', 'scsi', 'devices', 'it', 'is', 'attached', 'when', 'it', 'wants', 'to', 'an', 'important', 'feature', 'of', 'scsi', 'is', 'the', 'ability', 'to', 'detach', 'a', 'device', 'this', 'frees', 'the', 'scsi', 'bus', 'for', 'other', 'devices', 'this', 'is', 'typically', 'used', 'in', 'a', 'multitasking', 'os', 'to', 'start', 'transfers', 'on', 'several', 'devices', 'while', 'each', 'device', 'is', 'seeking', 'the', 'data', 'the', 'bus', 'is', 'free', 'for', 'other', 'commands', 'and', 'data', 'transfers', 'when', 'the', 'devices', 'are', 'ready', 'to', 'transfer', 'the', 'data', 'they', 'can', 'aquire', 'the', 'bus', 'and', 'send', 'the', 'data', 'on', 'an', 'ide', 'bus', 'when', 'you', 'start', 'a', 'transfer', 'the', 'bus', 'is', 'busy', 'until', 'the', 'disk', 'has', 'seeked', 'the', 'data', 'and', 'transfered', 'it', 'this', 'is', 'typically', 'a', 'ms', 'second', 'lock', 'out', 'for', 'other', 'processes', 'wanting', 'the', 'bus', 'irrespective', 'of', 'transfer', 'time'], ['i', 'have', 'an', 'old', 'jasmine', 'drive', 'which', 'i', 'cannot', 'use', 'with', 'my', 'new', 'system', 'my', 'understanding', 'is', 'that', 'i', 'have', 'to', 'upsate', 'the', 'driver', 'with', 'a', 'more', 'modern', 'one', 'in', 'order', 'to', 'gain', 'compatability', 'with', 'system', 'does', 'anyone', 'know', 'of', 'an', 'inexpensive', 'program', 'to', 'do', 'this', 'i', 'have', 'seen', 'formatters', 'for', 'buit', 'have', 'no', 'idea', 'if', 'they', 'will', 'work', 'i', 'have', 'another', 'ancient', 'device', 'this', 'one', 'a', 'tape', 'drive', 'for', 'which', 'the', 'back', 'utility', 'freezes', 'the', 'system', 'if', 'i', 'try', 'to', 'use', 'it', 'the', 'drive', 'is', 'a', 'jasmine', 'direct', 'tape', 'bought', 'used', 'for', 'w', 'tapes', 'techmar', 'mechanism', 'essentially', 'i', 'have', 'the', 'same', 'question', 'as', 'above', 'anyone', 'know', 'of', 'an', 'inexpensive', 'beckup', 'utility', 'i', 'can', 'use', 'with', 'system']]\n"
     ]
    }
   ],
   "source": [
    "#Eliminar puntuacion y simbolos no alfabeticos\n",
    "import re\n",
    "def remove_punctuation(doc):\n",
    "    return [re.sub(r'[^a-zA-Z]', '', word) for word in doc if re.sub(r'[^a-zA-Z]', '', word)]\n",
    "cleaned_docs = [remove_punctuation(doc) for doc in lowercase_docs]\n",
    "print(\"Cleaned documents:\", cleaned_docs[:5])  # Print first 5 cleaned documents"
   ]
  },
  {
   "cell_type": "markdown",
   "id": "973153ad553db841",
   "metadata": {},
   "source": [
    "## Parte 3: Eliminación de Stopwords\n",
    "\n",
    "### Actividad \n",
    "1. Elimina las palabras vacías usando una lista estándar."
   ]
  },
  {
   "cell_type": "code",
   "execution_count": 5,
   "id": "477c7bcd5c2d0391",
   "metadata": {},
   "outputs": [
    {
     "name": "stderr",
     "output_type": "stream",
     "text": [
      "[nltk_data] Downloading package stopwords to\n",
      "[nltk_data]     C:\\Users\\steve\\AppData\\Roaming\\nltk_data...\n",
      "[nltk_data]   Unzipping corpora\\stopwords.zip.\n"
     ]
    },
    {
     "name": "stdout",
     "output_type": "stream",
     "text": [
      "Filtered documents: [['sure', 'bashers', 'pens', 'fans', 'pretty', 'confused', 'lack', 'kind', 'posts', 'recent', 'pens', 'massacre', 'devils', 'actually', 'bit', 'puzzled', 'bit', 'relieved', 'however', 'going', 'put', 'end', 'nonpittsburghers', 'relief', 'bit', 'praise', 'pens', 'man', 'killing', 'devils', 'worse', 'thought', 'jagr', 'showed', 'much', 'better', 'regular', 'season', 'stats', 'also', 'lot', 'fo', 'fun', 'watch', 'playoffs', 'bowman', 'let', 'jagr', 'lot', 'fun', 'next', 'couple', 'games', 'since', 'pens', 'going', 'beat', 'pulp', 'jersey', 'anyway', 'disappointed', 'see', 'islanders', 'lose', 'final', 'regular', 'season', 'game', 'pens', 'rule'], ['brother', 'market', 'highperformance', 'video', 'card', 'supports', 'vesa', 'local', 'bus', 'mb', 'ram', 'anyone', 'suggestionsideas', 'diamond', 'stealth', 'pro', 'local', 'bus', 'orchid', 'farenheit', 'ati', 'graphics', 'ultra', 'pro', 'highperformance', 'vlb', 'card', 'please', 'post', 'email', 'thank', 'matt'], ['finally', 'said', 'dream', 'mediterranean', 'new', 'area', 'greater', 'years', 'like', 'holocaust', 'numbers', 'ist', 'july', 'usa', 'sweden', 'april', 'still', 'cold', 'changed', 'calendar', 'nothing', 'mentioned', 'true', 'let', 'say', 'true', 'shall', 'azeri', 'women', 'children', 'going', 'pay', 'price', 'raped', 'killed', 'tortured', 'armenians', 'hearded', 'something', 'called', 'geneva', 'convention', 'facist', 'ohhh', 'forgot', 'armenians', 'fight', 'nobody', 'forgot', 'killings', 'rapings', 'torture', 'kurds', 'turks', 'upon', 'time', 'ohhhh', 'swedish', 'redcross', 'workers', 'lie', 'ever', 'say', 'regional', 'killer', 'dont', 'like', 'person', 'shoot', 'thats', 'policyl', 'confused', 'search', 'turkish', 'planes', 'dont', 'know', 'talking', 'turkeys', 'government', 'announced', 'giving', 'weapons', 'azerbadjan', 'since', 'armenia', 'started', 'attack', 'azerbadjan', 'self', 'karabag', 'province', 'search', 'plane', 'weapons', 'since', 'content', 'announced', 'weapons', 'one', 'thats', 'confused', 'thats', 'right', 'give', 'weapons', 'azeris', 'since', 'armenians', 'started', 'fight', 'azerbadjan', 'shoot', 'armenian', 'bread', 'butter', 'arms', 'personel', 'russian', 'army'], ['think', 'scsi', 'card', 'dma', 'transfers', 'disks', 'scsi', 'card', 'dma', 'transfers', 'containing', 'data', 'scsi', 'devices', 'attached', 'wants', 'important', 'feature', 'scsi', 'ability', 'detach', 'device', 'frees', 'scsi', 'bus', 'devices', 'typically', 'used', 'multitasking', 'os', 'start', 'transfers', 'several', 'devices', 'device', 'seeking', 'data', 'bus', 'free', 'commands', 'data', 'transfers', 'devices', 'ready', 'transfer', 'data', 'aquire', 'bus', 'send', 'data', 'ide', 'bus', 'start', 'transfer', 'bus', 'busy', 'disk', 'seeked', 'data', 'transfered', 'typically', 'ms', 'second', 'lock', 'processes', 'wanting', 'bus', 'irrespective', 'transfer', 'time'], ['old', 'jasmine', 'drive', 'cannot', 'use', 'new', 'system', 'understanding', 'upsate', 'driver', 'modern', 'one', 'order', 'gain', 'compatability', 'system', 'anyone', 'know', 'inexpensive', 'program', 'seen', 'formatters', 'buit', 'idea', 'work', 'another', 'ancient', 'device', 'one', 'tape', 'drive', 'back', 'utility', 'freezes', 'system', 'try', 'use', 'drive', 'jasmine', 'direct', 'tape', 'bought', 'used', 'w', 'tapes', 'techmar', 'mechanism', 'essentially', 'question', 'anyone', 'know', 'inexpensive', 'beckup', 'utility', 'use', 'system']]\n"
     ]
    }
   ],
   "source": [
    "#eliminar las stopwords\n",
    "from nltk.corpus import stopwords\n",
    "import nltk\n",
    "nltk.download('stopwords')\n",
    "stop_words = set(stopwords.words('english'))\n",
    "def remove_stopwords(doc):\n",
    "    return [word for word in doc if word not in stop_words]\n",
    "filtered_docs = [remove_stopwords(doc) for doc in cleaned_docs]\n",
    "print(\"Filtered documents:\", filtered_docs[:5])  # Print first 5 filtered documents"
   ]
  },
  {
   "cell_type": "markdown",
   "id": "d83f090bfc7868f8",
   "metadata": {},
   "source": [
    "## Parte 4: Stemming o Lematización\n",
    "\n",
    "### Actividad\n",
    "1. Aplica stemming.\n",
    "2. Aplica lematización.\n",
    "3. Compara ambas técnicas."
   ]
  },
  {
   "cell_type": "code",
   "execution_count": 6,
   "id": "fd9ff693047bd948",
   "metadata": {},
   "outputs": [
    {
     "name": "stderr",
     "output_type": "stream",
     "text": [
      "[nltk_data] Downloading package punkt to\n",
      "[nltk_data]     C:\\Users\\steve\\AppData\\Roaming\\nltk_data...\n",
      "[nltk_data]   Package punkt is already up-to-date!\n"
     ]
    },
    {
     "name": "stdout",
     "output_type": "stream",
     "text": [
      "Stemmed documents: [['sure', 'basher', 'pen', 'fan', 'pretti', 'confus', 'lack', 'kind', 'post', 'recent', 'pen', 'massacr', 'devil', 'actual', 'bit', 'puzzl', 'bit', 'reliev', 'howev', 'go', 'put', 'end', 'nonpittsburgh', 'relief', 'bit', 'prais', 'pen', 'man', 'kill', 'devil', 'wors', 'thought', 'jagr', 'show', 'much', 'better', 'regular', 'season', 'stat', 'also', 'lot', 'fo', 'fun', 'watch', 'playoff', 'bowman', 'let', 'jagr', 'lot', 'fun', 'next', 'coupl', 'game', 'sinc', 'pen', 'go', 'beat', 'pulp', 'jersey', 'anyway', 'disappoint', 'see', 'island', 'lose', 'final', 'regular', 'season', 'game', 'pen', 'rule'], ['brother', 'market', 'highperform', 'video', 'card', 'support', 'vesa', 'local', 'bu', 'mb', 'ram', 'anyon', 'suggestionsidea', 'diamond', 'stealth', 'pro', 'local', 'bu', 'orchid', 'farenheit', 'ati', 'graphic', 'ultra', 'pro', 'highperform', 'vlb', 'card', 'pleas', 'post', 'email', 'thank', 'matt'], ['final', 'said', 'dream', 'mediterranean', 'new', 'area', 'greater', 'year', 'like', 'holocaust', 'number', 'ist', 'juli', 'usa', 'sweden', 'april', 'still', 'cold', 'chang', 'calendar', 'noth', 'mention', 'true', 'let', 'say', 'true', 'shall', 'azeri', 'women', 'children', 'go', 'pay', 'price', 'rape', 'kill', 'tortur', 'armenian', 'heard', 'someth', 'call', 'geneva', 'convent', 'facist', 'ohhh', 'forgot', 'armenian', 'fight', 'nobodi', 'forgot', 'kill', 'rape', 'tortur', 'kurd', 'turk', 'upon', 'time', 'ohhhh', 'swedish', 'redcross', 'worker', 'lie', 'ever', 'say', 'region', 'killer', 'dont', 'like', 'person', 'shoot', 'that', 'policyl', 'confus', 'search', 'turkish', 'plane', 'dont', 'know', 'talk', 'turkey', 'govern', 'announc', 'give', 'weapon', 'azerbadjan', 'sinc', 'armenia', 'start', 'attack', 'azerbadjan', 'self', 'karabag', 'provinc', 'search', 'plane', 'weapon', 'sinc', 'content', 'announc', 'weapon', 'one', 'that', 'confus', 'that', 'right', 'give', 'weapon', 'azeri', 'sinc', 'armenian', 'start', 'fight', 'azerbadjan', 'shoot', 'armenian', 'bread', 'butter', 'arm', 'personel', 'russian', 'armi'], ['think', 'scsi', 'card', 'dma', 'transfer', 'disk', 'scsi', 'card', 'dma', 'transfer', 'contain', 'data', 'scsi', 'devic', 'attach', 'want', 'import', 'featur', 'scsi', 'abil', 'detach', 'devic', 'free', 'scsi', 'bu', 'devic', 'typic', 'use', 'multitask', 'os', 'start', 'transfer', 'sever', 'devic', 'devic', 'seek', 'data', 'bu', 'free', 'command', 'data', 'transfer', 'devic', 'readi', 'transfer', 'data', 'aquir', 'bu', 'send', 'data', 'ide', 'bu', 'start', 'transfer', 'bu', 'busi', 'disk', 'seek', 'data', 'transfer', 'typic', 'ms', 'second', 'lock', 'process', 'want', 'bu', 'irrespect', 'transfer', 'time'], ['old', 'jasmin', 'drive', 'cannot', 'use', 'new', 'system', 'understand', 'upsat', 'driver', 'modern', 'one', 'order', 'gain', 'compat', 'system', 'anyon', 'know', 'inexpens', 'program', 'seen', 'formatt', 'buit', 'idea', 'work', 'anoth', 'ancient', 'devic', 'one', 'tape', 'drive', 'back', 'util', 'freez', 'system', 'tri', 'use', 'drive', 'jasmin', 'direct', 'tape', 'bought', 'use', 'w', 'tape', 'techmar', 'mechan', 'essenti', 'question', 'anyon', 'know', 'inexpens', 'beckup', 'util', 'use', 'system']]\n"
     ]
    }
   ],
   "source": [
    "#aplicar stemming\n",
    "from nltk.stem import PorterStemmer\n",
    "nltk.download('punkt')\n",
    "stemmer = PorterStemmer()\n",
    "def stem_words(doc):\n",
    "    return [stemmer.stem(word) for word in doc]\n",
    "stemmed_docs = [stem_words(doc) for doc in filtered_docs]\n",
    "print(\"Stemmed documents:\", stemmed_docs[:5])  # Print first 5 stemmed documents"
   ]
  },
  {
   "cell_type": "code",
   "execution_count": 7,
   "id": "123e1db5",
   "metadata": {},
   "outputs": [
    {
     "name": "stderr",
     "output_type": "stream",
     "text": [
      "[nltk_data] Downloading package wordnet to\n",
      "[nltk_data]     C:\\Users\\steve\\AppData\\Roaming\\nltk_data...\n"
     ]
    },
    {
     "name": "stdout",
     "output_type": "stream",
     "text": [
      "Lemmatized documents: [['sure', 'bashers', 'pen', 'fan', 'pretty', 'confused', 'lack', 'kind', 'post', 'recent', 'pen', 'massacre', 'devil', 'actually', 'bit', 'puzzled', 'bit', 'relieved', 'however', 'going', 'put', 'end', 'nonpittsburghers', 'relief', 'bit', 'praise', 'pen', 'man', 'killing', 'devil', 'worse', 'thought', 'jagr', 'showed', 'much', 'better', 'regular', 'season', 'stats', 'also', 'lot', 'fo', 'fun', 'watch', 'playoff', 'bowman', 'let', 'jagr', 'lot', 'fun', 'next', 'couple', 'game', 'since', 'pen', 'going', 'beat', 'pulp', 'jersey', 'anyway', 'disappointed', 'see', 'islander', 'lose', 'final', 'regular', 'season', 'game', 'pen', 'rule'], ['brother', 'market', 'highperformance', 'video', 'card', 'support', 'vesa', 'local', 'bus', 'mb', 'ram', 'anyone', 'suggestionsideas', 'diamond', 'stealth', 'pro', 'local', 'bus', 'orchid', 'farenheit', 'ati', 'graphic', 'ultra', 'pro', 'highperformance', 'vlb', 'card', 'please', 'post', 'email', 'thank', 'matt'], ['finally', 'said', 'dream', 'mediterranean', 'new', 'area', 'greater', 'year', 'like', 'holocaust', 'number', 'ist', 'july', 'usa', 'sweden', 'april', 'still', 'cold', 'changed', 'calendar', 'nothing', 'mentioned', 'true', 'let', 'say', 'true', 'shall', 'azeri', 'woman', 'child', 'going', 'pay', 'price', 'raped', 'killed', 'tortured', 'armenian', 'hearded', 'something', 'called', 'geneva', 'convention', 'facist', 'ohhh', 'forgot', 'armenian', 'fight', 'nobody', 'forgot', 'killing', 'rapings', 'torture', 'kurd', 'turk', 'upon', 'time', 'ohhhh', 'swedish', 'redcross', 'worker', 'lie', 'ever', 'say', 'regional', 'killer', 'dont', 'like', 'person', 'shoot', 'thats', 'policyl', 'confused', 'search', 'turkish', 'plane', 'dont', 'know', 'talking', 'turkey', 'government', 'announced', 'giving', 'weapon', 'azerbadjan', 'since', 'armenia', 'started', 'attack', 'azerbadjan', 'self', 'karabag', 'province', 'search', 'plane', 'weapon', 'since', 'content', 'announced', 'weapon', 'one', 'thats', 'confused', 'thats', 'right', 'give', 'weapon', 'azeri', 'since', 'armenian', 'started', 'fight', 'azerbadjan', 'shoot', 'armenian', 'bread', 'butter', 'arm', 'personel', 'russian', 'army'], ['think', 'scsi', 'card', 'dma', 'transfer', 'disk', 'scsi', 'card', 'dma', 'transfer', 'containing', 'data', 'scsi', 'device', 'attached', 'want', 'important', 'feature', 'scsi', 'ability', 'detach', 'device', 'free', 'scsi', 'bus', 'device', 'typically', 'used', 'multitasking', 'o', 'start', 'transfer', 'several', 'device', 'device', 'seeking', 'data', 'bus', 'free', 'command', 'data', 'transfer', 'device', 'ready', 'transfer', 'data', 'aquire', 'bus', 'send', 'data', 'ide', 'bus', 'start', 'transfer', 'bus', 'busy', 'disk', 'seeked', 'data', 'transfered', 'typically', 'm', 'second', 'lock', 'process', 'wanting', 'bus', 'irrespective', 'transfer', 'time'], ['old', 'jasmine', 'drive', 'cannot', 'use', 'new', 'system', 'understanding', 'upsate', 'driver', 'modern', 'one', 'order', 'gain', 'compatability', 'system', 'anyone', 'know', 'inexpensive', 'program', 'seen', 'formatters', 'buit', 'idea', 'work', 'another', 'ancient', 'device', 'one', 'tape', 'drive', 'back', 'utility', 'freeze', 'system', 'try', 'use', 'drive', 'jasmine', 'direct', 'tape', 'bought', 'used', 'w', 'tape', 'techmar', 'mechanism', 'essentially', 'question', 'anyone', 'know', 'inexpensive', 'beckup', 'utility', 'use', 'system']]\n"
     ]
    }
   ],
   "source": [
    "#aplicar lemmatization\n",
    "from nltk.stem import WordNetLemmatizer\n",
    "nltk.download('wordnet')\n",
    "lemmatizer = WordNetLemmatizer()\n",
    "def lemmatize_words(doc):\n",
    "    return [lemmatizer.lemmatize(word) for word in doc]\n",
    "lemmatized_docs = [lemmatize_words(doc) for doc in filtered_docs]\n",
    "print(\"Lemmatized documents:\", lemmatized_docs[:5])  # Print first 5 lemmatized documents"
   ]
  }
 ],
 "metadata": {
  "kernelspec": {
   "display_name": "Python 3",
   "language": "python",
   "name": "python3"
  },
  "language_info": {
   "codemirror_mode": {
    "name": "ipython",
    "version": 3
   },
   "file_extension": ".py",
   "mimetype": "text/x-python",
   "name": "python",
   "nbconvert_exporter": "python",
   "pygments_lexer": "ipython3",
   "version": "3.12.4"
  }
 },
 "nbformat": 4,
 "nbformat_minor": 5
}
