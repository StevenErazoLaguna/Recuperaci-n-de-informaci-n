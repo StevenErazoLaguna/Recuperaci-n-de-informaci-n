{
 "cells": [
  {
   "cell_type": "markdown",
   "id": "d3f8b5c16e7eb563",
   "metadata": {},
   "source": [
    "# Ejercicio 6: Dense Retrieval e Introducción a FAISS\n",
    "\n",
    "## Objetivo de la práctica\n",
    "\n",
    "Generar embeddings con sentence-transformers (SBERT, E5), e indexar documentos con FAISS "
   ]
  },
  {
   "cell_type": "markdown",
   "id": "cdd69ed7fcbeef9d",
   "metadata": {},
   "source": [
    "## Parte 0: Carga del Corpus\n",
    "### Actividad\n",
    "\n",
    "1. Carga el corpus 20 Newsgroups desde sklearn.datasets.fetch_20newsgroups.\n",
    "2. Limita el corpus a los primeros 2000 documentos para facilitar el procesamiento."
   ]
  },
  {
   "cell_type": "code",
   "execution_count": 3,
   "id": "b00fbde6cfc88b",
   "metadata": {},
   "outputs": [],
   "source": [
    "from sklearn.datasets import fetch_20newsgroups\n",
    "newsgroups = fetch_20newsgroups(subset='all', remove=('headers', 'footers', 'quotes'))\n",
    "\n",
    "# Limitar a los primeros 2000 documentos\n",
    "newsgroupsdocs = newsgroups.data[:2000]"
   ]
  },
  {
   "cell_type": "markdown",
   "id": "b9184f4b3e66e20a",
   "metadata": {},
   "source": [
    "## Parte 2: Generación de Embeddings\n",
    "### Actividad\n",
    "\n",
    "1. Usa dos modelos de sentence-transformers. Puedes usar: `'all-MiniLM-L6-v2'` (SBERT), o `'intfloat/e5-base'` (E5). Cuando uses E5, antepon `\"passage: \"` a cada documento antes de codificar.\n",
    "2. Genera los vectores de embeddings para todos los documentos usando el modelo seleccionado.\n",
    "3. Guarda los embeddings en un array de NumPy para su posterior indexación."
   ]
  },
  {
   "cell_type": "markdown",
   "id": "c8f4f2e6",
   "metadata": {},
   "source": [
    "### MODELO SBERT"
   ]
  },
  {
   "cell_type": "code",
   "execution_count": 4,
   "id": "525ae7515c6169d9",
   "metadata": {},
   "outputs": [
    {
     "data": {
      "text/html": [
       "<div>\n",
       "<style scoped>\n",
       "    .dataframe tbody tr th:only-of-type {\n",
       "        vertical-align: middle;\n",
       "    }\n",
       "\n",
       "    .dataframe tbody tr th {\n",
       "        vertical-align: top;\n",
       "    }\n",
       "\n",
       "    .dataframe thead th {\n",
       "        text-align: right;\n",
       "    }\n",
       "</style>\n",
       "<table border=\"1\" class=\"dataframe\">\n",
       "  <thead>\n",
       "    <tr style=\"text-align: right;\">\n",
       "      <th></th>\n",
       "      <th>doc</th>\n",
       "    </tr>\n",
       "  </thead>\n",
       "  <tbody>\n",
       "    <tr>\n",
       "      <th>0</th>\n",
       "      <td>\\n\\nI am sure some bashers of Pens fans are pr...</td>\n",
       "    </tr>\n",
       "    <tr>\n",
       "      <th>1</th>\n",
       "      <td>My brother is in the market for a high-perform...</td>\n",
       "    </tr>\n",
       "    <tr>\n",
       "      <th>2</th>\n",
       "      <td>\\n\\n\\n\\n\\tFinally you said what you dream abou...</td>\n",
       "    </tr>\n",
       "    <tr>\n",
       "      <th>3</th>\n",
       "      <td>\\nThink!\\n\\nIt's the SCSI card doing the DMA t...</td>\n",
       "    </tr>\n",
       "    <tr>\n",
       "      <th>4</th>\n",
       "      <td>1)    I have an old Jasmine drive which I cann...</td>\n",
       "    </tr>\n",
       "  </tbody>\n",
       "</table>\n",
       "</div>"
      ],
      "text/plain": [
       "                                                 doc\n",
       "0  \\n\\nI am sure some bashers of Pens fans are pr...\n",
       "1  My brother is in the market for a high-perform...\n",
       "2  \\n\\n\\n\\n\\tFinally you said what you dream abou...\n",
       "3  \\nThink!\\n\\nIt's the SCSI card doing the DMA t...\n",
       "4  1)    I have an old Jasmine drive which I cann..."
      ]
     },
     "execution_count": 4,
     "metadata": {},
     "output_type": "execute_result"
    }
   ],
   "source": [
    "import pandas as pd\n",
    "df =pd.DataFrame({'doc':newsgroupsdocs[:2000]})\n",
    "df.head()"
   ]
  },
  {
   "cell_type": "code",
   "execution_count": 5,
   "id": "33c3187d",
   "metadata": {},
   "outputs": [
    {
     "name": "stderr",
     "output_type": "stream",
     "text": [
      "c:\\Python312\\Lib\\site-packages\\tqdm\\auto.py:21: TqdmWarning: IProgress not found. Please update jupyter and ipywidgets. See https://ipywidgets.readthedocs.io/en/stable/user_install.html\n",
      "  from .autonotebook import tqdm as notebook_tqdm\n",
      "Batches: 100%|██████████| 63/63 [00:54<00:00,  1.15it/s]"
     ]
    },
    {
     "name": "stdout",
     "output_type": "stream",
     "text": [
      "Shape de los embeddings: (2000, 384)\n"
     ]
    },
    {
     "name": "stderr",
     "output_type": "stream",
     "text": [
      "\n"
     ]
    }
   ],
   "source": [
    "from sentence_transformers import SentenceTransformer\n",
    "\n",
    "# Cargar el modelo preentrenado\n",
    "model = SentenceTransformer('all-MiniLM-L6-v2')\n",
    "\n",
    "# Asegurarse de tener exactamente 2000 documentos\n",
    "documentos = newsgroupsdocs[:2000]\n",
    "\n",
    "# Generar embeddings \n",
    "document_embeddings = model.encode(documentos, show_progress_bar=True)\n",
    "\n",
    "print(f\"Shape de los embeddings: {document_embeddings.shape}\")\n"
   ]
  },
  {
   "cell_type": "code",
   "execution_count": 6,
   "id": "475b1f42",
   "metadata": {},
   "outputs": [
    {
     "data": {
      "text/html": [
       "<div>\n",
       "<style scoped>\n",
       "    .dataframe tbody tr th:only-of-type {\n",
       "        vertical-align: middle;\n",
       "    }\n",
       "\n",
       "    .dataframe tbody tr th {\n",
       "        vertical-align: top;\n",
       "    }\n",
       "\n",
       "    .dataframe thead th {\n",
       "        text-align: right;\n",
       "    }\n",
       "</style>\n",
       "<table border=\"1\" class=\"dataframe\">\n",
       "  <thead>\n",
       "    <tr style=\"text-align: right;\">\n",
       "      <th></th>\n",
       "      <th>documento</th>\n",
       "      <th>embedding</th>\n",
       "    </tr>\n",
       "  </thead>\n",
       "  <tbody>\n",
       "    <tr>\n",
       "      <th>0</th>\n",
       "      <td>\\n\\nI am sure some bashers of Pens fans are pr...</td>\n",
       "      <td>[0.0020780046, 0.023450432, 0.024808863, -0.01...</td>\n",
       "    </tr>\n",
       "    <tr>\n",
       "      <th>1</th>\n",
       "      <td>My brother is in the market for a high-perform...</td>\n",
       "      <td>[0.050060306, 0.026980933, -0.008864836, -0.03...</td>\n",
       "    </tr>\n",
       "    <tr>\n",
       "      <th>2</th>\n",
       "      <td>\\n\\n\\n\\n\\tFinally you said what you dream abou...</td>\n",
       "      <td>[0.016404754, 0.08100051, -0.049535964, -0.008...</td>\n",
       "    </tr>\n",
       "    <tr>\n",
       "      <th>3</th>\n",
       "      <td>\\nThink!\\n\\nIt's the SCSI card doing the DMA t...</td>\n",
       "      <td>[-0.019391475, 0.0114943655, -0.014787269, -0....</td>\n",
       "    </tr>\n",
       "    <tr>\n",
       "      <th>4</th>\n",
       "      <td>1)    I have an old Jasmine drive which I cann...</td>\n",
       "      <td>[-0.039287075, -0.055402867, -0.07453619, -0.0...</td>\n",
       "    </tr>\n",
       "  </tbody>\n",
       "</table>\n",
       "</div>"
      ],
      "text/plain": [
       "                                           documento  \\\n",
       "0  \\n\\nI am sure some bashers of Pens fans are pr...   \n",
       "1  My brother is in the market for a high-perform...   \n",
       "2  \\n\\n\\n\\n\\tFinally you said what you dream abou...   \n",
       "3  \\nThink!\\n\\nIt's the SCSI card doing the DMA t...   \n",
       "4  1)    I have an old Jasmine drive which I cann...   \n",
       "\n",
       "                                           embedding  \n",
       "0  [0.0020780046, 0.023450432, 0.024808863, -0.01...  \n",
       "1  [0.050060306, 0.026980933, -0.008864836, -0.03...  \n",
       "2  [0.016404754, 0.08100051, -0.049535964, -0.008...  \n",
       "3  [-0.019391475, 0.0114943655, -0.014787269, -0....  \n",
       "4  [-0.039287075, -0.055402867, -0.07453619, -0.0...  "
      ]
     },
     "execution_count": 6,
     "metadata": {},
     "output_type": "execute_result"
    }
   ],
   "source": [
    "import pandas as pd\n",
    "\n",
    "# Crear DataFrame si no lo hiciste antes\n",
    "df = pd.DataFrame({'documento': documentos})\n",
    "\n",
    "# Agregar los embeddings\n",
    "df['embedding'] = list(document_embeddings)\n",
    "\n",
    "# Mostrar primeras filas\n",
    "df.head()\n"
   ]
  },
  {
   "cell_type": "markdown",
   "id": "1950a866",
   "metadata": {},
   "source": [
    "### MODELO E5"
   ]
  },
  {
   "cell_type": "code",
   "execution_count": 7,
   "id": "9b4930a8",
   "metadata": {},
   "outputs": [
    {
     "name": "stderr",
     "output_type": "stream",
     "text": [
      "Batches: 100%|██████████| 63/63 [11:09<00:00, 10.62s/it]"
     ]
    },
    {
     "name": "stdout",
     "output_type": "stream",
     "text": [
      "Forma de los embeddings E5: (2000, 768)\n"
     ]
    },
    {
     "name": "stderr",
     "output_type": "stream",
     "text": [
      "\n"
     ]
    }
   ],
   "source": [
    "from sentence_transformers import SentenceTransformer\n",
    "\n",
    "# Cargar el modelo E5-base\n",
    "model = SentenceTransformer(\"intfloat/e5-base\")\n",
    "\n",
    "# Para cada documento, debemos anteponer \"passage: \" al texto\n",
    "documentos_e5 = [\"passage: \" + doc for doc in newsgroupsdocs[:2000]]\n",
    "\n",
    "# Generar embeddings\n",
    "embeddings_e5 = model.encode(documentos_e5, show_progress_bar=True)\n",
    "\n",
    "print(f\"Forma de los embeddings E5: {embeddings_e5.shape}\")  # (2000, 768)\n"
   ]
  },
  {
   "cell_type": "code",
   "execution_count": 8,
   "id": "1bc418e4",
   "metadata": {},
   "outputs": [
    {
     "data": {
      "text/html": [
       "<div>\n",
       "<style scoped>\n",
       "    .dataframe tbody tr th:only-of-type {\n",
       "        vertical-align: middle;\n",
       "    }\n",
       "\n",
       "    .dataframe tbody tr th {\n",
       "        vertical-align: top;\n",
       "    }\n",
       "\n",
       "    .dataframe thead th {\n",
       "        text-align: right;\n",
       "    }\n",
       "</style>\n",
       "<table border=\"1\" class=\"dataframe\">\n",
       "  <thead>\n",
       "    <tr style=\"text-align: right;\">\n",
       "      <th></th>\n",
       "      <th>documento</th>\n",
       "      <th>embedding_SBERT</th>\n",
       "      <th>embedding_e5</th>\n",
       "    </tr>\n",
       "  </thead>\n",
       "  <tbody>\n",
       "    <tr>\n",
       "      <th>0</th>\n",
       "      <td>\\n\\nI am sure some bashers of Pens fans are pr...</td>\n",
       "      <td>[0.0020780046, 0.023450432, 0.024808863, -0.01...</td>\n",
       "      <td>[-0.05799896, -0.0020638704, -0.020161983, -0....</td>\n",
       "    </tr>\n",
       "    <tr>\n",
       "      <th>1</th>\n",
       "      <td>My brother is in the market for a high-perform...</td>\n",
       "      <td>[0.050060306, 0.026980933, -0.008864836, -0.03...</td>\n",
       "      <td>[-0.047147322, 0.00045925583, 0.024559252, -0....</td>\n",
       "    </tr>\n",
       "    <tr>\n",
       "      <th>2</th>\n",
       "      <td>\\n\\n\\n\\n\\tFinally you said what you dream abou...</td>\n",
       "      <td>[0.016404754, 0.08100051, -0.049535964, -0.008...</td>\n",
       "      <td>[-0.032370448, 0.024496663, -0.019904086, -0.0...</td>\n",
       "    </tr>\n",
       "    <tr>\n",
       "      <th>3</th>\n",
       "      <td>\\nThink!\\n\\nIt's the SCSI card doing the DMA t...</td>\n",
       "      <td>[-0.019391475, 0.0114943655, -0.014787269, -0....</td>\n",
       "      <td>[-0.077318035, 0.017821243, -0.0042953906, -0....</td>\n",
       "    </tr>\n",
       "    <tr>\n",
       "      <th>4</th>\n",
       "      <td>1)    I have an old Jasmine drive which I cann...</td>\n",
       "      <td>[-0.039287075, -0.055402867, -0.07453619, -0.0...</td>\n",
       "      <td>[-0.03879634, 0.0034529453, -0.018807113, 0.00...</td>\n",
       "    </tr>\n",
       "  </tbody>\n",
       "</table>\n",
       "</div>"
      ],
      "text/plain": [
       "                                           documento  \\\n",
       "0  \\n\\nI am sure some bashers of Pens fans are pr...   \n",
       "1  My brother is in the market for a high-perform...   \n",
       "2  \\n\\n\\n\\n\\tFinally you said what you dream abou...   \n",
       "3  \\nThink!\\n\\nIt's the SCSI card doing the DMA t...   \n",
       "4  1)    I have an old Jasmine drive which I cann...   \n",
       "\n",
       "                                     embedding_SBERT  \\\n",
       "0  [0.0020780046, 0.023450432, 0.024808863, -0.01...   \n",
       "1  [0.050060306, 0.026980933, -0.008864836, -0.03...   \n",
       "2  [0.016404754, 0.08100051, -0.049535964, -0.008...   \n",
       "3  [-0.019391475, 0.0114943655, -0.014787269, -0....   \n",
       "4  [-0.039287075, -0.055402867, -0.07453619, -0.0...   \n",
       "\n",
       "                                        embedding_e5  \n",
       "0  [-0.05799896, -0.0020638704, -0.020161983, -0....  \n",
       "1  [-0.047147322, 0.00045925583, 0.024559252, -0....  \n",
       "2  [-0.032370448, 0.024496663, -0.019904086, -0.0...  \n",
       "3  [-0.077318035, 0.017821243, -0.0042953906, -0....  \n",
       "4  [-0.03879634, 0.0034529453, -0.018807113, 0.00...  "
      ]
     },
     "execution_count": 8,
     "metadata": {},
     "output_type": "execute_result"
    }
   ],
   "source": [
    "import pandas as pd\n",
    "\n",
    "df = pd.DataFrame({\n",
    "    'documento': newsgroupsdocs[:2000],\n",
    "    'embedding_SBERT': list(document_embeddings),\n",
    "    'embedding_e5': list(embeddings_e5)\n",
    "})\n",
    "\n",
    "df.head()\n"
   ]
  },
  {
   "cell_type": "markdown",
   "id": "e53b50365064d2b1",
   "metadata": {},
   "source": [
    "## Parte 3: Indexación con FAISS\n",
    "### Actividad\n",
    "\n",
    "1. Crea un índice plano con faiss.IndexFlatL2 para búsquedas por distancia euclidiana.\n",
    "2. Asegúrate de usar la dimensión correcta `(embedding_dim = doc_embeddings.shape[1])`.\n",
    "3. Agrega los vectores de documentos al índice."
   ]
  },
  {
   "cell_type": "code",
   "execution_count": 11,
   "id": "0dfca810",
   "metadata": {},
   "outputs": [
    {
     "data": {
      "text/html": [
       "<div>\n",
       "<style scoped>\n",
       "    .dataframe tbody tr th:only-of-type {\n",
       "        vertical-align: middle;\n",
       "    }\n",
       "\n",
       "    .dataframe tbody tr th {\n",
       "        vertical-align: top;\n",
       "    }\n",
       "\n",
       "    .dataframe thead th {\n",
       "        text-align: right;\n",
       "    }\n",
       "</style>\n",
       "<table border=\"1\" class=\"dataframe\">\n",
       "  <thead>\n",
       "    <tr style=\"text-align: right;\">\n",
       "      <th></th>\n",
       "      <th>indice_documento</th>\n",
       "      <th>distancia</th>\n",
       "      <th>contenido</th>\n",
       "    </tr>\n",
       "  </thead>\n",
       "  <tbody>\n",
       "    <tr>\n",
       "      <th>0</th>\n",
       "      <td>0</td>\n",
       "      <td>0.000000</td>\n",
       "      <td>\\n\\nI am sure some bashers of Pens fans are pr...</td>\n",
       "    </tr>\n",
       "    <tr>\n",
       "      <th>1</th>\n",
       "      <td>629</td>\n",
       "      <td>0.616910</td>\n",
       "      <td>\\n\\nBowman tended to overplay Francis at times...</td>\n",
       "    </tr>\n",
       "    <tr>\n",
       "      <th>2</th>\n",
       "      <td>1803</td>\n",
       "      <td>0.791276</td>\n",
       "      <td>Just some thoughts:\\n\\nI don't usually like to...</td>\n",
       "    </tr>\n",
       "    <tr>\n",
       "      <th>3</th>\n",
       "      <td>458</td>\n",
       "      <td>0.853428</td>\n",
       "      <td>\\n\\nAttention Penguins fans once again, appare...</td>\n",
       "    </tr>\n",
       "    <tr>\n",
       "      <th>4</th>\n",
       "      <td>1921</td>\n",
       "      <td>0.912488</td>\n",
       "      <td>\\nYeh,but :\\n\\n1.Biran Sutter's playoff record...</td>\n",
       "    </tr>\n",
       "  </tbody>\n",
       "</table>\n",
       "</div>"
      ],
      "text/plain": [
       "   indice_documento  distancia  \\\n",
       "0                 0   0.000000   \n",
       "1               629   0.616910   \n",
       "2              1803   0.791276   \n",
       "3               458   0.853428   \n",
       "4              1921   0.912488   \n",
       "\n",
       "                                           contenido  \n",
       "0  \\n\\nI am sure some bashers of Pens fans are pr...  \n",
       "1  \\n\\nBowman tended to overplay Francis at times...  \n",
       "2  Just some thoughts:\\n\\nI don't usually like to...  \n",
       "3  \\n\\nAttention Penguins fans once again, appare...  \n",
       "4  \\nYeh,but :\\n\\n1.Biran Sutter's playoff record...  "
      ]
     },
     "execution_count": 11,
     "metadata": {},
     "output_type": "execute_result"
    }
   ],
   "source": [
    "import pandas as pd\n",
    "import faiss\n",
    "import numpy as np\n",
    "\n",
    "# 1. Convertir embeddings a float32\n",
    "embeddings = np.array(document_embeddings).astype('float32')\n",
    "\n",
    "# 2. Obtener dimensión de los vectores\n",
    "embedding_dim = embeddings.shape[1]\n",
    "\n",
    "# 3. Crear índice FAISS (L2 = distancia euclidiana)\n",
    "index = faiss.IndexFlatL2(embedding_dim)\n",
    "\n",
    "# 4. Agregar vectores al índice\n",
    "index.add(embeddings)\n",
    "\n",
    "# 5. Consulta: buscar los 5 documentos más similares al documento 0\n",
    "query_vector = embeddings[0:1]\n",
    "top_k = 5\n",
    "distances, indices = index.search(query_vector, k=top_k)\n",
    "\n",
    "# 6. Crear DataFrame con resultados\n",
    "resultados = pd.DataFrame({\n",
    "    'indice_documento': indices[0],\n",
    "    'distancia': distances[0],\n",
    "    'contenido': [newsgroupsdocs[i] for i in indices[0]]\n",
    "})\n",
    "\n",
    "# 7. Mostrar el DataFrame ordenado\n",
    "resultados\n"
   ]
  },
  {
   "cell_type": "markdown",
   "id": "40462a067ca2d379",
   "metadata": {},
   "source": [
    "## Parte 4: Consulta Semántica\n",
    "### Actividad\n",
    "\n",
    "1. Escribe una consulta en lenguaje natural. Ejemplos:\n",
    "\n",
    "    * \"God, religion, and spirituality\"\n",
    "    * \"space exploration\"\n",
    "    * \"car maintenance\"\n",
    "\n",
    "2. Codifica la consulta utilizando el mismo modelo de embeddings. Cuando uses E5, antepon `\"query: \"` a la consulta.\n",
    "3. Recupera los 5 documentos más relevantes con `index.search(...)`.\n",
    "4. Muestra los textos de los documentos recuperados (puedes mostrar solo los primeros 500 caracteres de cada uno)."
   ]
  },
  {
   "cell_type": "code",
   "execution_count": 13,
   "id": "aad085806124c709",
   "metadata": {},
   "outputs": [
    {
     "data": {
      "text/html": [
       "<div>\n",
       "<style scoped>\n",
       "    .dataframe tbody tr th:only-of-type {\n",
       "        vertical-align: middle;\n",
       "    }\n",
       "\n",
       "    .dataframe tbody tr th {\n",
       "        vertical-align: top;\n",
       "    }\n",
       "\n",
       "    .dataframe thead th {\n",
       "        text-align: right;\n",
       "    }\n",
       "</style>\n",
       "<table border=\"1\" class=\"dataframe\">\n",
       "  <thead>\n",
       "    <tr style=\"text-align: right;\">\n",
       "      <th></th>\n",
       "      <th>indice_documento</th>\n",
       "      <th>distancia</th>\n",
       "      <th>contenido_resumido</th>\n",
       "    </tr>\n",
       "  </thead>\n",
       "  <tbody>\n",
       "    <tr>\n",
       "      <th>0</th>\n",
       "      <td>25</td>\n",
       "      <td>0.361933</td>\n",
       "      <td>AW&amp;ST  had a brief blurb on a Manned Lunar Exp...</td>\n",
       "    </tr>\n",
       "    <tr>\n",
       "      <th>1</th>\n",
       "      <td>1643</td>\n",
       "      <td>0.364152</td>\n",
       "      <td>\\nWell, here goes.\\n\\nThe first item of busine...</td>\n",
       "    </tr>\n",
       "    <tr>\n",
       "      <th>2</th>\n",
       "      <td>495</td>\n",
       "      <td>0.370052</td>\n",
       "      <td>I am posting this for a friend without interne...</td>\n",
       "    </tr>\n",
       "    <tr>\n",
       "      <th>3</th>\n",
       "      <td>390</td>\n",
       "      <td>0.381102</td>\n",
       "      <td>As for SF and advertising in space. There is a...</td>\n",
       "    </tr>\n",
       "    <tr>\n",
       "      <th>4</th>\n",
       "      <td>784</td>\n",
       "      <td>0.383229</td>\n",
       "      <td>\\nWhatabout, Schools, Universities, Rich Indiv...</td>\n",
       "    </tr>\n",
       "  </tbody>\n",
       "</table>\n",
       "</div>"
      ],
      "text/plain": [
       "   indice_documento  distancia  \\\n",
       "0                25   0.361933   \n",
       "1              1643   0.364152   \n",
       "2               495   0.370052   \n",
       "3               390   0.381102   \n",
       "4               784   0.383229   \n",
       "\n",
       "                                  contenido_resumido  \n",
       "0  AW&ST  had a brief blurb on a Manned Lunar Exp...  \n",
       "1  \\nWell, here goes.\\n\\nThe first item of busine...  \n",
       "2  I am posting this for a friend without interne...  \n",
       "3  As for SF and advertising in space. There is a...  \n",
       "4  \\nWhatabout, Schools, Universities, Rich Indiv...  "
      ]
     },
     "execution_count": 13,
     "metadata": {},
     "output_type": "execute_result"
    }
   ],
   "source": [
    "import faiss\n",
    "import numpy as np\n",
    "\n",
    "# Paso 1: Escribe tu consulta\n",
    "consulta = \"space exploration\"  # Puedes cambiar esta consulta\n",
    "\n",
    "# Paso 2: Anteponer \"query: \" como lo requiere el modelo E5\n",
    "consulta_formateada = \"query: \" + consulta\n",
    "\n",
    "# Paso 3: Codificar la consulta con el mismo modelo usado antes\n",
    "query_embedding = model.encode([consulta_formateada]).astype('float32')  # modelo E5 ya cargado\n",
    "\n",
    "# Paso 4: Crear un índice FAISS con embeddings_e5 si no existe\n",
    "embedding_dim_e5 = embeddings_e5.shape[1]\n",
    "index_e5 = faiss.IndexFlatL2(embedding_dim_e5)\n",
    "index_e5.add(embeddings_e5)\n",
    "\n",
    "# Paso 5: Buscar los 5 documentos más relevantes usando FAISS\n",
    "top_k = 5\n",
    "distancias, indices = index_e5.search(query_embedding, k=top_k)\n",
    "\n",
    "# Paso 6: Mostrar los resultados en un DataFrame\n",
    "df_resultados = pd.DataFrame({\n",
    "    'indice_documento': indices[0],\n",
    "    'distancia': distancias[0],\n",
    "    'contenido_resumido': [newsgroupsdocs[i][:500] for i in indices[0]]\n",
    "})\n",
    "\n",
    "# Mostrar DataFrame ordenado por similitud\n",
    "df_resultados\n"
   ]
  }
 ],
 "metadata": {
  "kernelspec": {
   "display_name": "Python 3",
   "language": "python",
   "name": "python3"
  },
  "language_info": {
   "codemirror_mode": {
    "name": "ipython",
    "version": 3
   },
   "file_extension": ".py",
   "mimetype": "text/x-python",
   "name": "python",
   "nbconvert_exporter": "python",
   "pygments_lexer": "ipython3",
   "version": "3.12.4"
  }
 },
 "nbformat": 4,
 "nbformat_minor": 5
}
